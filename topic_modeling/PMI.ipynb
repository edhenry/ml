{
 "cells": [
  {
   "cell_type": "code",
   "execution_count": 1,
   "metadata": {
    "collapsed": false
   },
   "outputs": [],
   "source": [
    "import os\n",
    "import sys\n",
    "import csv\n",
    "import copy\n",
    "import random\n",
    "import itertools\n",
    "from operator import itemgetter\n",
    "from collections import defaultdict\n",
    "import pprint\n",
    "\n",
    "# Make sure you've got Numpy and Scipy installed:\n",
    "import numpy as np\n",
    "import scipy\n",
    "import scipy.spatial.distance\n",
    "from numpy.linalg import svd\n",
    "\n",
    "# For visualization:\n",
    "import tsne # See http://lvdmaaten.github.io/tsne/#implementations\n",
    "import matplotlib.pyplot as plt\n",
    "\n",
    "# For clustering in the 'Word-sense ambiguities' section:\n",
    "from sklearn.cluster import AffinityPropagation"
   ]
  },
  {
   "cell_type": "code",
   "execution_count": 2,
   "metadata": {
    "collapsed": true
   },
   "outputs": [],
   "source": [
    "%matplotlib inline"
   ]
  },
  {
   "cell_type": "markdown",
   "metadata": {},
   "source": [
    "## Distributional Matrices\n",
    "\n",
    "We can start by creating a dictionary $d$ that can be used to map word-pairs to counts. Everytime a pair of words $w$ and $w^\\prime$ occur, we can increment a counter associated with each pair $d[w,w^\\prime]$ by $1$. Using these count dictionary we can then create our vocabulary $V$, an ordered list of words types.\n",
    "\n",
    "We can then create a matrix, $M$, of dimensions $|V|$ x $|V|$. Each $M[i,j]$ is filled with the counts contained in $d[w_i,w_j]$.\n",
    "\n",
    "These co-occurence matrices have been provided with this example. We can import them with the _build_ function seen below."
   ]
  },
  {
   "cell_type": "code",
   "execution_count": 3,
   "metadata": {
    "collapsed": true
   },
   "outputs": [],
   "source": [
    "# Build method to import co-occurence matrices\n",
    "\n",
    "def build(src_filename, delimiter=',', header=True, quoting=csv.QUOTE_MINIMAL):    \n",
    "    reader = csv.reader(file(src_filename), delimiter=delimiter, quoting=quoting)\n",
    "    colnames = None\n",
    "    if header:\n",
    "        colnames = reader.next()\n",
    "        colnames = colnames[1: ]\n",
    "    mat = []    \n",
    "    rownames = []\n",
    "    for line in reader:        \n",
    "        rownames.append(line[0])            \n",
    "        mat.append(np.array(map(float, line[1: ])))\n",
    "    return (np.array(mat), rownames, colnames)"
   ]
  },
  {
   "cell_type": "markdown",
   "metadata": {},
   "source": [
    "\n",
    "We can now read in the example co-occurency matrices for later. We will be using the IMDB moview review dataset for these examples.\n"
   ]
  },
  {
   "cell_type": "code",
   "execution_count": 4,
   "metadata": {
    "collapsed": false
   },
   "outputs": [],
   "source": [
    "# Import word <-> word co-occurence matrix\n",
    "ww = build('distributedwordreps-data/imdb-wordword.csv')\n",
    "\n",
    "#Import w <-> document co-occurence matrix\n",
    "wd = build('distributedwordreps-data/imdb-worddoc.csv')"
   ]
  },
  {
   "cell_type": "code",
   "execution_count": 5,
   "metadata": {
    "collapsed": false
   },
   "outputs": [
    {
     "name": "stdout",
     "output_type": "stream",
     "text": [
      "Word co-occurences : !, and, !\n",
      "Count : 343744.0\n"
     ]
    }
   ],
   "source": [
    "# Example of counts of first words in the document which happen to be two exclamation marks\n",
    "\n",
    "print(\"Word co-occurences : \" + ww[1][0] + \", and, \" + ww[2][0])\n",
    "\n",
    "print \"Count : \" + str(ww[0][0][0])"
   ]
  },
  {
   "cell_type": "code",
   "execution_count": 6,
   "metadata": {
    "collapsed": true
   },
   "outputs": [],
   "source": [
    "# Load GloVe vectors as well\n",
    "\n",
    "glv = build('distributedwordreps-data/glove.6B.50d.txt', delimiter=' ', header=False, quoting=csv.QUOTE_NONE)"
   ]
  },
  {
   "cell_type": "markdown",
   "metadata": {},
   "source": [
    "# Vector Comparisons\n",
    "\n",
    "For the most part we are interested in measuring the _distance_ between two vectors. The general idea of vector comparisons using distance is that words that are semantically similar should be closer together in the vector spaces we build, and symantically unrelated words should be further apart.\n",
    "\n",
    "The scipy library has a lot of vector comparison models methods, and for the purposes of our work here we'll be using this library as a supporting implementation of these methods."
   ]
  },
  {
   "cell_type": "markdown",
   "metadata": {},
   "source": [
    "### Euclidean Distance\n",
    "\n",
    "The first comparison methodology we'll look at is Euclidean Distance. To find this distance, \n",
    "\n",
    "The equation to find the Euclidean Distance between vectors $u$ and $v$ of $n$ dimensions is below :\n",
    "\n",
    "$$\\sqrt{\\sum_{i=1}^{n} |u_{i}-v_{i}|^2}$$\n"
   ]
  },
  {
   "cell_type": "markdown",
   "metadata": {
    "collapsed": false
   },
   "source": [
    "In two dimensions, this corresponds to the length of the direct most line between the two points.\n",
    "\n",
    "Below is a method to define that function :"
   ]
  },
  {
   "cell_type": "code",
   "execution_count": 7,
   "metadata": {
    "collapsed": true
   },
   "outputs": [],
   "source": [
    "# method to compute euclidean distance\n",
    "# we exploit a method already defined in scipy\n",
    "\n",
    "def euclidean(u, v):\n",
    "    return scipy.spatial.distance.euclidean(u, v)"
   ]
  },
  {
   "cell_type": "markdown",
   "metadata": {},
   "source": [
    "Here I create a small toy array (matrix) for use within our examples."
   ]
  },
  {
   "cell_type": "code",
   "execution_count": 8,
   "metadata": {
    "collapsed": false
   },
   "outputs": [
    {
     "data": {
      "image/png": "[encoded data removed]",
      "text/plain": [
       "<matplotlib.figure.Figure at 0x1081d6a10>"
      ]
     },
     "metadata": {},
     "output_type": "display_data"
    }
   ],
   "source": [
    "# Two dimensional vector embedding in two dimensional space to show \n",
    "# how we can measure the distance between two vectors in 2 space\n",
    "\n",
    "ABC = np.array([\n",
    "    [ 2.0,  4.0],  # 0\n",
    "    [ 1.50,  3.50],# 1\n",
    "    [10.0, 15.0],  # 2\n",
    "    [14.0, 10.0]]) # 3\n",
    "\n",
    "def plot_ABC(m):\n",
    "    plt.plot(m[:,0], m[:,1], marker='', linestyle='')\n",
    "    plt.xlim([0,np.max(m)*1.2])\n",
    "    plt.ylim([0,np.max(m)*1.2])\n",
    "    for i, x in enumerate(['0','1','2','3']):\n",
    "        plt.annotate(x, m[i,:])\n",
    "\n",
    "plot_ABC(ABC)"
   ]
  },
  {
   "cell_type": "code",
   "execution_count": 9,
   "metadata": {
    "collapsed": false
   },
   "outputs": [
    {
     "data": {
      "text/plain": [
       "0.70710678118654757"
      ]
     },
     "execution_count": 9,
     "metadata": {},
     "output_type": "execute_result"
    }
   ],
   "source": [
    "#Measure the distance between vectors A and B in matrix ABC\n",
    "euclidean(ABC[0], ABC[1])"
   ]
  },
  {
   "cell_type": "code",
   "execution_count": 10,
   "metadata": {
    "collapsed": false
   },
   "outputs": [
    {
     "data": {
      "text/plain": [
       "0.70710678118654757"
      ]
     },
     "execution_count": 10,
     "metadata": {},
     "output_type": "execute_result"
    }
   ],
   "source": [
    "#Measure the distance between vectors B and C in matrix ABC\n",
    "euclidean(ABC[0], ABC[1])"
   ]
  },
  {
   "cell_type": "markdown",
   "metadata": {},
   "source": [
    "## Vector Length\n",
    "\n",
    "Euclidean distance measures the difference between two vector lengths, as shown the in the equation above. We're also able to find the length of a single vector, for use in later examples, as well by using the following equation :\n",
    "\n",
    "$$\\|u\\| = \\sqrt{\\sum_{i=1}^{n} u_{i}^{2}}$$\n",
    "\n",
    "We use the numpy library sqrt and dot product methods within the library shown below."
   ]
  },
  {
   "cell_type": "code",
   "execution_count": 11,
   "metadata": {
    "collapsed": true
   },
   "outputs": [],
   "source": [
    "def vector_length(u):\n",
    "    return np.sqrt(np.dot(u, u))"
   ]
  },
  {
   "cell_type": "markdown",
   "metadata": {},
   "source": [
    "## Length Normalization\n",
    "\n",
    "When working with datasets that have large(r), variation in the size of the datapoints that are used can skew the actual distance measured between vectors. Below we define a normalization function that will normalize each vector according to its length.\n",
    "\n",
    "When normalizing all vectors according to their length, we can see in the plot below that this changes the representation of the data quite and bit and actually brings vector A and B closer together on the plot, showing their stronger similarity than say vectors B and C, or A and C."
   ]
  },
  {
   "cell_type": "code",
   "execution_count": 12,
   "metadata": {
    "collapsed": true
   },
   "outputs": [],
   "source": [
    "def length_norm(u):\n",
    "    return  u / vector_length(u)"
   ]
  },
  {
   "cell_type": "code",
   "execution_count": 13,
   "metadata": {
    "collapsed": false
   },
   "outputs": [
    {
     "data": {
      "image/png": "[encoded data removed]",
      "text/plain": [
       "<matplotlib.figure.Figure at 0x1081e5510>"
      ]
     },
     "metadata": {},
     "output_type": "display_data"
    }
   ],
   "source": [
    "plot_ABC(np.array([length_norm(row) for row in ABC]))\n"
   ]
  },
  {
   "cell_type": "markdown",
   "metadata": {},
   "source": [
    "### Cosine Distance\n",
    "\n",
    "The cosine distance takes the overall vector length into account, meaning we don't have to run the vector_length() method over the vectors before calculation, and measure the angle between the two vectors. This is all captured within the Cosine Distance measurement function that is seen below :\n",
    "\n",
    "$$1 - \\left(\\frac{\\sum_{i=1}^{n} u_{i} \\cdot v_{i}}{\\|u\\|\\cdot \\|v\\|}\\right)$$\n",
    "\n",
    "The result is the same as first normalizing the vectors according to their length, vector_length(), and then computing the Euclidean distance between the two."
   ]
  },
  {
   "cell_type": "code",
   "execution_count": 14,
   "metadata": {
    "collapsed": false
   },
   "outputs": [],
   "source": [
    "def cosine(u, v):\n",
    "    # Use scipy's method:\n",
    "    return scipy.spatial.distance.cosine(u, v)"
   ]
  },
  {
   "cell_type": "code",
   "execution_count": 15,
   "metadata": {
    "collapsed": false
   },
   "outputs": [
    {
     "data": {
      "text/plain": [
       "0.14521248477827109"
      ]
     },
     "execution_count": 15,
     "metadata": {},
     "output_type": "execute_result"
    }
   ],
   "source": [
    "cosine(ABC[1],ABC[3])"
   ]
  },
  {
   "cell_type": "markdown",
   "metadata": {},
   "source": [
    "## Distributional Neighbors\n",
    "\n",
    "This functional is an investigational aide and allows us to use the similarity functions defined above over the IMDB dataset that we've previously loaded."
   ]
  },
  {
   "cell_type": "code",
   "execution_count": 16,
   "metadata": {
    "collapsed": false
   },
   "outputs": [],
   "source": [
    "def neighbors(word=None, mat=None, rownames=None, distfunc=cosine):\n",
    "    if word not in rownames:\n",
    "        raise ValueError('%s is not in this VSM' % word)\n",
    "    w = mat[rownames.index(word)]\n",
    "    dists = [(rownames[i], distfunc(w, mat[i])) for i in xrange(len(mat))]\n",
    "    return sorted(dists, key=itemgetter(1), reverse=False)"
   ]
  },
  {
   "cell_type": "markdown",
   "metadata": {},
   "source": [
    "Here we show an example of a word and their respective neighbors according to both cosine similarity and basic euclidean distance."
   ]
  },
  {
   "cell_type": "code",
   "execution_count": 17,
   "metadata": {
    "collapsed": false
   },
   "outputs": [
    {
     "data": {
      "text/plain": [
       "[('superb', 0.0),\n",
       " ('excellent', 0.0026965023912962627),\n",
       " ('outstanding', 0.0027344413235226295),\n",
       " ('beautifully', 0.0027345163104325332),\n",
       " ('brilliant', 0.0027888643627086429),\n",
       " ('performances', 0.0028333319740448948),\n",
       " ('perfectly', 0.0028436893209292657),\n",
       " ('memorable', 0.0028935533453889883),\n",
       " ('cinematography', 0.0029206920379420964),\n",
       " ('wonderfully', 0.0029473105937050104)]"
      ]
     },
     "execution_count": 17,
     "metadata": {},
     "output_type": "execute_result"
    }
   ],
   "source": [
    "neighbors(word='superb', mat=ww[0], rownames=ww[1], distfunc=cosine)[: 10]"
   ]
  },
  {
   "cell_type": "code",
   "execution_count": 18,
   "metadata": {
    "collapsed": false
   },
   "outputs": [
    {
     "data": {
      "text/plain": [
       "[('superb', 0.0),\n",
       " ('familiar', 1448.8919904533948),\n",
       " ('violent', 1630.3723501090174),\n",
       " ('follows', 1647.0276257549538),\n",
       " ('convincing', 1701.2260284865147),\n",
       " ('pace', 1748.1195611284716),\n",
       " ('recent', 1769.8525362300668),\n",
       " ('amount', 1783.1822677449436),\n",
       " ('impressive', 1789.4510331383756),\n",
       " ('masterpiece', 1849.5091240650856)]"
      ]
     },
     "execution_count": 18,
     "metadata": {},
     "output_type": "execute_result"
    }
   ],
   "source": [
    "neighbors(word='superb', mat=ww[0], rownames=ww[1], distfunc=euclidean)[: 10]"
   ]
  },
  {
   "cell_type": "markdown",
   "metadata": {},
   "source": [
    "### GloVe representation\n",
    "\n",
    "Here we can see that the GloVe vectors perform _very_ well, but they are based on much more than a simple raw count of occurences in the text."
   ]
  },
  {
   "cell_type": "code",
   "execution_count": 19,
   "metadata": {
    "collapsed": false
   },
   "outputs": [
    {
     "data": {
      "text/plain": [
       "[('superb', 2.2204460492503131e-16),\n",
       " ('brilliant', 0.15809110259014747),\n",
       " ('impressive', 0.19352861376442654),\n",
       " ('masterful', 0.22871323564771928),\n",
       " ('excellent', 0.22928471014596696),\n",
       " ('volley', 0.24414121851443737),\n",
       " ('deft', 0.24755074890723616),\n",
       " ('dazzling', 0.26191184828838354),\n",
       " ('score', 0.26231230884814061),\n",
       " ('scoring', 0.26641165920991983)]"
      ]
     },
     "execution_count": 19,
     "metadata": {},
     "output_type": "execute_result"
    }
   ],
   "source": [
    "neighbors(word='superb', mat=glv[0], rownames=glv[1], distfunc=cosine)[: 10]"
   ]
  },
  {
   "cell_type": "markdown",
   "metadata": {},
   "source": [
    "## Matrix Reweighting\n",
    "\n",
    "Taking a look at the similarity measurements listed above, we can see that they offer some insight into the embedded context contained within written language, but they're not quite as accurate as we would like them to be. This is where matrix reweighting comes into play. The goal of matrix reweighting is to amplify the important, trustworthy and unusual representations found within language, and de-emphasize the unimportant, and untrustworthy representations.\n",
    "\n",
    "### Normalization\n",
    "\n",
    "Here we see another form of normalization that can be applied to the data. With length_norm() seen above, we normalize using the vector_length(). There are other ways that we can normalize the datasets as well, such as each row by the sum of its values, which turns each row into a probability distribution over the columns :"
   ]
  },
  {
   "cell_type": "code",
   "execution_count": 20,
   "metadata": {
    "collapsed": true
   },
   "outputs": [],
   "source": [
    "def prob_norm(u):\n",
    "    return u / np.sum(u)"
   ]
  },
  {
   "cell_type": "markdown",
   "metadata": {},
   "source": [
    "These normalization measures are insensitive to the magnitude of the underlying counts, which can cause problems in larger datasets. An example is [1,10] is vastly different than [1000, 10000], and those differences will end up being obscured by these normalization procedures."
   ]
  },
  {
   "cell_type": "markdown",
   "metadata": {},
   "source": [
    "## Pointwise Mutual Information\n",
    "\n",
    "This brings us to something called Pointwise Mutual Information (PMI), which can help address the issue of the ignorance of the magnitude of the counts within the previous normalization functions. This is the measure between a pair of discreet outcomes $x$ and $y$, as defined as :\n",
    "\n",
    "$$PMI(x,y) = log \\frac{P(x,y)}{P(x) \\cdot P(y)}$$\n",
    "\n",
    "$PMI(w,c)$ measures the association between a word $w$ and a context $c$ by calculating the log of the ratio between their joint probability (the frequency in which they occur together) and their marginal probabilities (the frequency with which they occur independently).\n",
    "\n",
    "This can be shown by considering the actual number of observations within a corpus :\n",
    "\n",
    "$$PMI(w,c) = log \\frac{\\#(w,c) \\cdot |D|}{\\#(w) \\cdot \\#(c)}$$\n",
    "\n",
    "The challenge with PMI arises when we compute $M^{PMI}$. This leaves us with rows containing many entries of word-context pairs $(w,c)$ that were never observed in the corpus, for which $PMI(w,c) = log 0 = -\\infty$. This leaves the matrix 'ill-defined'. We could do potentially smooth over the probabilities using something like a Dirichlet prior by adding a small \"fake\" count to the underlying counts matrix. But this leaves us with, still, a very dense matrix to deal with.\n",
    "\n",
    "An alternative approach would be to replace $M^{pmi}$ with $M_0^{PMI}$, in which $PMI(w,c) = 0$ in all cases $\\#(w,c) = 0$, which results in a sparse matrix.\n",
    "\n",
    "When approaching this problem, we understand that there are \"bad\" (uncorrelated) word-context pairs, which are represented with negative matrix entries, and replacing $M^{PMI}$ with $M_0^{PMI}$ will leave non-existent word context pairs with 0 entries in the matrix, which would rate them \"better\" than resulting negative entries from the real $M^{PMI}$.\n",
    "\n",
    "### Positive Pointwise Mutual Information\n",
    "\n",
    "To get around the problem framed above, where uncorrelated word-context pairs will have negative matrix entries whereas zeroed out entries would exist for non-existent word-context pairs, we're able to a modification to the PMI algorithm called Positive Pointwise Mutual Information (PPMI). This will map all negative values within the matrix to 0.0, leveling the playing field between unseen word-context pairs and negative valued entries within the matrix. We can view this new positive PMI matrix as $M^{PPMI}$.\n",
    "\n",
    "Below we capture both implementations, PMI and PPMI. The positive argument default to True, implementing PPMI, if this argument is set to False, it will perform regular PMI."
   ]
  },
  {
   "cell_type": "code",
   "execution_count": 21,
   "metadata": {
    "collapsed": true
   },
   "outputs": [],
   "source": [
    "#PMI example\n",
    "def pmi(mat=None, rownames=None, positive=True):\n",
    "    # Create a joint probability table\n",
    "    p = mat / np.sum(mat, axis=None)\n",
    "    # Pre-compute column sums\n",
    "    colprobs = np.sum(p, axis=0)\n",
    "    # Vectorize this function so it can be applied rowwise\n",
    "    np_pmi_log = np.vectorize((lambda x : _pmi_log(x, positive=positive)))\n",
    "    p = np.array([np_pmi_log(row / (np.sum(row)*colprobs)) for row in p])\n",
    "    return (p, rownames)\n",
    "\n",
    "def _pmi_log(x, positive=True):\n",
    "    \"\"\"Where positive = False, return log(x) if possible, else 0.\n",
    "    Where positive = True, log(x) is mapped to 0 where negative.\"\"\"\n",
    "    # set val var to 0.0\n",
    "    val = 0.0\n",
    "    # conditional \n",
    "    if x > 0.0:\n",
    "        val = np.log(x)\n",
    "    if positive:\n",
    "        val = max([val, 0.0])\n",
    "    return val\n",
    "    "
   ]
  },
  {
   "cell_type": "code",
   "execution_count": 22,
   "metadata": {
    "collapsed": false
   },
   "outputs": [],
   "source": [
    "# Process the ww data using PPMI\n",
    "ww_ppmi = pmi(mat=ww[0], rownames=ww[1], positive=True)"
   ]
  },
  {
   "cell_type": "code",
   "execution_count": 23,
   "metadata": {
    "collapsed": false
   },
   "outputs": [
    {
     "data": {
      "text/plain": [
       "[('superb', 4.4408920985006262e-16),\n",
       " ('excellent', 0.41348274842943555),\n",
       " ('performances', 0.44391628568702468),\n",
       " ('brilliant', 0.45785117509986106),\n",
       " ('performance', 0.46856555779383124),\n",
       " ('outstanding', 0.48315645713600408),\n",
       " ('beautifully', 0.48570217706133589),\n",
       " ('stunning', 0.48653666411657093),\n",
       " ('as', 0.48968473398217438),\n",
       " ('brilliantly', 0.48998750813252667)]"
      ]
     },
     "execution_count": 23,
     "metadata": {},
     "output_type": "execute_result"
    }
   ],
   "source": [
    "neighbors(word='superb', mat=ww_ppmi[0], rownames=ww_ppmi[1], distfunc=cosine)[: 10]"
   ]
  },
  {
   "cell_type": "markdown",
   "metadata": {},
   "source": [
    "## Skipgram Negative Sampling (SGNS)\n",
    "\n"
   ]
  }
 ],
 "metadata": {
  "kernelspec": {
   "display_name": "Python 2",
   "language": "python",
   "name": "python2"
  },
  "language_info": {
   "codemirror_mode": {
    "name": "ipython",
    "version": 2
   },
   "file_extension": ".py",
   "mimetype": "text/x-python",
   "name": "python",
   "nbconvert_exporter": "python",
   "pygments_lexer": "ipython2",
   "version": "2.7.10"
  }
 },
 "nbformat": 4,
 "nbformat_minor": 0
}
