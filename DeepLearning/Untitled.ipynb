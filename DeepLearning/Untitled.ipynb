{
 "cells": [
  {
   "cell_type": "markdown",
   "metadata": {},
   "source": [
    "## The Matrix Calculus You Need For Deep Learning\n",
    "\n",
    "This will be a collection of notes and possible implementations for the matrix calculus that is required for much of the work that is to be done in the deep learning field, which is a sub-field of machine learning, Typically one can get through this introductory work with a Calculus I amount of understanding of the mathematical concepts in this document. A collection of references are also available at the bottom of this document for further investigation.\n",
    "\n",
    "### Scalar Derivatives rules\n",
    "\n",
    "* $ \\frac{d}{dx} f(x) $ maps $f(x)$ to it's derivative wr.t. $x$\n",
    "* If $y = f(x)$ then $ \\frac{dy}{dx} = \\frac{df(x)}{dy} = \\frac{d}{dx}f(x) $"
   ]
  },
  {
   "cell_type": "code",
   "execution_count": 2,
   "metadata": {
    "collapsed": true
   },
   "outputs": [],
   "source": [
    "import numpy as np\n",
    "\n",
    "np.poly1d."
   ]
  },
  {
   "cell_type": "markdown",
   "metadata": {},
   "source": [
    "## References \n",
    "\n",
    "[1][The Matrix Calculus You Need For Deep Learning](http://parrt.cs.usfca.edu/doc/matrix-calculus.pdf)"
   ]
  },
  {
   "cell_type": "code",
   "execution_count": null,
   "metadata": {
    "collapsed": true
   },
   "outputs": [],
   "source": []
  }
 ],
 "metadata": {
  "kernelspec": {
   "display_name": "Python 3",
   "language": "python",
   "name": "python3"
  },
  "language_info": {
   "codemirror_mode": {
    "name": "ipython",
    "version": 3
   },
   "file_extension": ".py",
   "mimetype": "text/x-python",
   "name": "python",
   "nbconvert_exporter": "python",
   "pygments_lexer": "ipython3",
   "version": "3.5.2"
  }
 },
 "nbformat": 4,
 "nbformat_minor": 2
}
