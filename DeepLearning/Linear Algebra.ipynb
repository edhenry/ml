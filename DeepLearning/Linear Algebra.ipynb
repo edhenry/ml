{
 "cells": [
  {
   "cell_type": "markdown",
   "metadata": {
    "deletable": true,
    "editable": true
   },
   "source": [
    "## Deep Learning - Goodfellow et al.\n",
    "\n",
    "We will be using these notebooks to review and work through Goodfellow et al.'s Deep Learning text."
   ]
  },
  {
   "cell_type": "markdown",
   "metadata": {
    "deletable": true,
    "editable": true
   },
   "source": [
    "### Chapter 2 - Linear Algebra\n",
    "\n",
    "#### Scalars\n",
    "\n",
    "A scalar is a single number -- example being the slope of a line, described as $s \\in \\mathbb{R}$ or $n \\in \\mathbb{N}$ described as the number of units when defining the natural number scalars\n",
    "\n",
    "#### Vectors\n",
    "\n",
    "This is an array of numbers typically arranged in order. We can identify the position, or index, of an element using subscript notation for the elements of an array. If $\\mathbf{x}$ is a vector, then we can identify the position of elements within this array as $x_{i}$. Vectors contain elements which reference points in space in $\\mathbb{R}^n$ dimensions. Each element references a coordinate along a different axis. \n",
    "\n",
    "In the example below we use [numpy](http://www.numpy.org/) to create array(s).\n",
    "\n",
    "** note : I use vector and array interchangably **"
   ]
  },
  {
   "cell_type": "code",
   "execution_count": 2,
   "metadata": {
    "collapsed": false
   },
   "outputs": [
    {
     "name": "stdout",
     "output_type": "stream",
     "text": [
      "[[ 0.  0.  0.  0.  0.]]\n",
      "[[ 0.44097475  0.21059968  0.09870492  0.53145336  0.17612998]]\n"
     ]
    }
   ],
   "source": [
    "## Numpy representations\n",
    "\n",
    "import numpy as np\n",
    "\n",
    "# Straight forward creation of 5 element vector of zeroes\n",
    "\n",
    "zeroes = np.zeros((1,5))\n",
    "print(zeroes)\n",
    "\n",
    "# Numpy random.rand creates an n-dimensional vector (array) by\n",
    "# sampling values uniformly between (0,1]\n",
    "\n",
    "random_vals = np.random.rand(1,5)\n",
    "print(random_vals)"
   ]
  },
  {
   "cell_type": "markdown",
   "metadata": {
    "deletable": true,
    "editable": true
   },
   "source": [
    "##### Vector Sets\n",
    "\n",
    "Sometimes we need to reference the indices of elements within a vector, and we can do this by defining a set $S = \\{1,3,6\\}$ which references $x_1$, $x_3$, and $x_6$, respectively.\n",
    "\n",
    "We can then use the $-$ sign to define the complement of a given set. For example $x_{-1}$ is the vector $\\mathbf{x}$ containing all elements _except_ the first element, and $x_{-S}$ references the vector containing all elements, except those defined within the set $S$.\n",
    "\n"
   ]
  },
  {
   "cell_type": "code",
   "execution_count": 3,
   "metadata": {
    "collapsed": false
   },
   "outputs": [
    {
     "name": "stdout",
     "output_type": "stream",
     "text": [
      "First two elements of zeroes vector:  [ 0.  0.]\n",
      "First two elements of the random vector :  [ 0.44097475  0.21059968]\n"
     ]
    }
   ],
   "source": [
    "# Slicing numpy arrays allows for subsetting vectors within numpy\n",
    "# example below selects first 2 rows of the all zeroes vector\n",
    "\n",
    "print \"First two elements of zeroes vector: \", zeroes[0][:2]\n",
    "\n",
    "# Just to prove this is the case I subset the random_vals array as well\n",
    "print \"First two elements of the random vector : \", random_vals[0][:2]"
   ]
  },
  {
   "cell_type": "code",
   "execution_count": 4,
   "metadata": {
    "collapsed": false
   },
   "outputs": [
    {
     "name": "stdout",
     "output_type": "stream",
     "text": [
      "All but last two elements of zeroes vector:  [ 0.  0.  0.]\n",
      "All but last two elements of random_vals vector :  [ 0.44097475  0.21059968  0.09870492]\n"
     ]
    }
   ],
   "source": [
    "# Can we negative subset (for lack of a better term) we can do that \n",
    "# using the same logic\n",
    "\n",
    "print \"All but last two elements of zeroes vector: \", zeroes[0][:-2]\n",
    "\n",
    "print \"All but last two elements of random_vals vector : \", random_vals[0][0:-2]"
   ]
  },
  {
   "cell_type": "markdown",
   "metadata": {},
   "source": [
    "#### Matrices\n",
    "\n",
    "* 2D array of numbers\n",
    "* Use bold typeface to reference an a full matrix $\\textbf{A}$\n",
    "* Matrix has height of $m$ and width of $n$, we say that $A \\in \\mathbb{R}^{m \\times n}$\n",
    "* $A_{1,1}$ is upper left entry of $\\textbf{A}$ and $A_{m,n}$ is the bottom right entry of a general matrix\n",
    "* \":\" used to identify matrix cross-sections\n",
    "    * $A_{i,:}$ = horizontal cross-section (row)\n",
    "    * $A_{:,i}$ = vertical cross-section (column)\n",
    "* Explicit identification of Matrix elements requires presenting the array as such :\n",
    "\n",
    "$$\n",
    "\\begin{bmatrix}\n",
    "A_{1,1} & A_{1,2} \\\\\n",
    "A_{2,1} & A_{2,2}\n",
    "\\end{bmatrix}\n",
    "$$\n",
    "* $f(\\textbf{A})_{i,j}$ gives the i,jth entry of matrix $\\textbf{A}$ after the function $f$ has been applied to the matrix"
   ]
  },
  {
   "cell_type": "code",
   "execution_count": 5,
   "metadata": {
    "collapsed": false
   },
   "outputs": [
    {
     "name": "stdout",
     "output_type": "stream",
     "text": [
      "matrix_A : \n",
      "\n",
      "[[ 0.52905214  0.46369121]\n",
      " [ 0.95629514  0.12338068]] \n",
      "\n",
      "Single bottom left entry of matrix_A :  0.123380683408\n"
     ]
    }
   ],
   "source": [
    "# Note the double brackets like the array defined above using numpy\n",
    "# due to the nature of matrix being a generalization of a vector\n",
    "# and a tensor (more below) being the generalization of a matrix\n",
    "# numpy handles matrices a bit different (keeping 2D nature through)\n",
    "# operations, but they're by definition similar\n",
    "\n",
    "matrix_A = np.random.random((2,2))\n",
    "print \"matrix_A : \\n\\n\", matrix_A, \"\\n\"\n",
    "\n",
    "# Then we can call a single entry of the entire matrix\n",
    "print \"Single bottom left entry of matrix_A : \", matrix_A[1][1]"
   ]
  },
  {
   "cell_type": "code",
   "execution_count": 6,
   "metadata": {
    "collapsed": false
   },
   "outputs": [
    {
     "name": "stdout",
     "output_type": "stream",
     "text": [
      "The first row of matrix_A is :  [ 0.52905214  0.46369121]\n",
      "The first column of matrix_A is :  [ 0.52905214  0.95629514]\n"
     ]
    }
   ],
   "source": [
    "# Accessing rows and columns in numpy matches the textbook\n",
    "# note the commas before and after the ith element number\n",
    "\n",
    "print \"The first row of matrix_A is : \", matrix_A[0,:]\n",
    "print \"The first column of matrix_A is : \", matrix_A[:,0]"
   ]
  },
  {
   "cell_type": "markdown",
   "metadata": {},
   "source": [
    "##### Tensors\n",
    "\n",
    "* Array with more than two axis\n",
    "* General case - array of numbers arranged on a regular grid with a variable number of axes\n",
    "* Denote a tensor similar to a matrix as $\\textbf{A}$, however will have $(i,j,k)$ coordinates defined.\n",
    "    * $\\textbf{A}_{i,j,k}$"
   ]
  },
  {
   "cell_type": "code",
   "execution_count": 31,
   "metadata": {
    "collapsed": false
   },
   "outputs": [
    {
     "name": "stdout",
     "output_type": "stream",
     "text": [
      "[[[4 5 1]\n",
      "  [1 2 8]\n",
      "  [4 7 2]]\n",
      "\n",
      " [[3 9 4]\n",
      "  [6 6 3]\n",
      "  [3 6 8]]\n",
      "\n",
      " [[3 7 9]\n",
      "  [5 3 7]\n",
      "  [2 4 8]]]\n"
     ]
    }
   ],
   "source": [
    "# Example 3x3x3 tensor, using ints for illustrative purposes\n",
    "\n",
    "tensor = np.random.randint(1, 10, (3,3,3))\n",
    "\n",
    "print tensor"
   ]
  },
  {
   "cell_type": "markdown",
   "metadata": {},
   "source": [
    "#### Transpose operation\n",
    "\n",
    "* Mirror image of the matrix across the *main diagonal*\n",
    "    * *main diagonal* starts in upper left hand corner of matrix and ends in bottom right corner\n",
    "* Written as $A^{T}$ or :\n",
    "\n",
    "$$(\\textbf{A}^{T})_{i,j} = \\textbf{A}_{j,i}$$\n",
    "\n",
    "* Vectors are single column matrices -- when transposed we end up with single row matrix\n",
    "* Can notationally write vectors as $\\textbf{x} = [x_{1},x_{2},x_{3}]^{T}$\n",
    "* Scalar can be interpreted as a single entry matrix, as well, therefore a scalars transpose is itself\n",
    "    * $a = a^{T}$"
   ]
  },
  {
   "cell_type": "code",
   "execution_count": 7,
   "metadata": {
    "collapsed": false
   },
   "outputs": [
    {
     "name": "stdout",
     "output_type": "stream",
     "text": [
      "Matrix_A before transpose operation is applied : \n",
      "\n",
      "[[ 0.52905214  0.46369121]\n",
      " [ 0.95629514  0.12338068]] \n",
      "\n",
      "Matrix_A after transpost operation is applied : \n",
      "\n",
      "[[ 0.52905214  0.95629514]\n",
      " [ 0.46369121  0.12338068]] \n",
      "\n"
     ]
    }
   ],
   "source": [
    "# The transpose function is a bit hard(er) to see with a 2x2 matrix\n",
    "\n",
    "print \"Matrix_A before transpose operation is applied : \\n\\n\", matrix_A, \"\\n\"\n",
    "\n",
    "print \"Matrix_A after transpost operation is applied : \\n\\n\", matrix_A.T, \"\\n\""
   ]
  },
  {
   "cell_type": "code",
   "execution_count": 8,
   "metadata": {
    "collapsed": false
   },
   "outputs": [
    {
     "name": "stdout",
     "output_type": "stream",
     "text": [
      "Matrix_B before transpose operation is applied : \n",
      "\n",
      "[[ 0.76359093  0.19536575  0.0759568 ]\n",
      " [ 0.70939379  0.8572922   0.92919314]\n",
      " [ 0.78102358  0.07331387  0.87375616]] \n",
      "\n",
      "Matrix_B after transpost operation is applied : \n",
      "\n",
      "[[ 0.76359093  0.70939379  0.78102358]\n",
      " [ 0.19536575  0.8572922   0.07331387]\n",
      " [ 0.0759568   0.92919314  0.87375616]] \n",
      "\n"
     ]
    }
   ],
   "source": [
    "# It's a bit easier to see the transposition with a 3x3 matrix, and on.\n",
    "# Just throwing the 3x3 example in for completeness\n",
    "matrix_B = np.random.random((3,3))\n",
    "\n",
    "print \"Matrix_B before transpose operation is applied : \\n\\n\", matrix_B, \"\\n\"\n",
    "\n",
    "print \"Matrix_B after transpost operation is applied : \\n\\n\", matrix_B.T, \"\\n\""
   ]
  },
  {
   "cell_type": "code",
   "execution_count": 37,
   "metadata": {
    "collapsed": false
   },
   "outputs": [
    {
     "name": "stdout",
     "output_type": "stream",
     "text": [
      "Vector before transpose : \n",
      "\n",
      "[[ 0.74287045  0.14115694  0.39784215  0.64221029  0.37196598]] \n",
      "\n",
      "Vector after transpose : \n",
      "\n",
      "[[ 0.74287045]\n",
      " [ 0.14115694]\n",
      " [ 0.39784215]\n",
      " [ 0.64221029]\n",
      " [ 0.37196598]] \n",
      "\n"
     ]
    }
   ],
   "source": [
    "# Transposing single vectors\n",
    "\n",
    "vector = np.random.random((1,5))\n",
    "\n",
    "print \"Vector before transpose : \\n\\n\", vector, \"\\n\"\n",
    "\n",
    "print \"Vector after transpose : \\n\\n\", vector.T, \"\\n\""
   ]
  },
  {
   "cell_type": "markdown",
   "metadata": {},
   "source": [
    "##### Addition operation\n",
    "\n",
    "* Can add matricies as long as they have the same shape by summing their elements\n",
    "\n",
    "$$\\textbf{C} = \\textbf{A} + \\textbf{B}$$\n",
    "\n",
    "where\n",
    "\n",
    "$$C_{i,j} = A_{i,j} + B_{i,j}$$\n",
    "\n",
    "* We can multiply a matrix or add a matrix by a scalar\n",
    "\n",
    "$$\\textbf{D} = a \\cdot \\textbf{B} + c$$\n",
    "\n",
    "where \n",
    "\n",
    "$$D_{i,j} = a \\cdot B_{i,j} + c$$"
   ]
  },
  {
   "cell_type": "code",
   "execution_count": 9,
   "metadata": {
    "collapsed": false
   },
   "outputs": [
    {
     "name": "stdout",
     "output_type": "stream",
     "text": [
      "matrix_A_int : \n",
      "\n",
      "  [[5 8 1]\n",
      " [8 9 5]\n",
      " [3 1 6]] \n",
      "\n",
      "matrix_B_int : \n",
      "\n",
      "  [[2 8 1]\n",
      " [4 1 4]\n",
      " [4 1 9]] \n",
      "\n",
      "matrix_C_int : \n",
      "\n",
      "  [[ 7 16  2]\n",
      " [12 10  9]\n",
      " [ 7  2 15]] \n",
      "\n"
     ]
    }
   ],
   "source": [
    "# For simplicity I created matrices with ints as entries for ease of \n",
    "# illustration for the addition operations\n",
    "\n",
    "matrix_A_int = np.random.randint(1, 10, (3,3))\n",
    "matrix_B_int = np.random.randint(1, 10, (3,3))\n",
    "\n",
    "print \"matrix_A_int : \\n\\n \", matrix_A_int, \"\\n\"\n",
    "print \"matrix_B_int : \\n\\n \", matrix_B_int, \"\\n\"\n",
    "\n",
    "# Simple addition operator is invoked on the two numpy matrices\n",
    "matrix_C_int = matrix_A_int + matrix_B_int\n",
    "\n",
    "print \"matrix_C_int : \\n\\n \", matrix_C_int, \"\\n\""
   ]
  },
  {
   "cell_type": "code",
   "execution_count": 40,
   "metadata": {
    "collapsed": false
   },
   "outputs": [
    {
     "name": "stdout",
     "output_type": "stream",
     "text": [
      "matrix_A_int before scalar addition : \n",
      "\n",
      "[[5 8 1]\n",
      " [8 9 5]\n",
      " [3 1 6]] \n",
      "\n",
      "matrix_A_int after adding a scalar to each element : \n",
      "\n",
      "[[ 7 10  3]\n",
      " [10 11  7]\n",
      " [ 5  3  8]]\n"
     ]
    }
   ],
   "source": [
    "# We can also add scalars\n",
    "\n",
    "print \"matrix_A_int before scalar addition : \\n\\n\", matrix_A_int, \"\\n\"\n",
    "\n",
    "print \"matrix_A_int after adding a scalar to each element : \\n\\n\", matrix_A_int + 2"
   ]
  },
  {
   "cell_type": "code",
   "execution_count": null,
   "metadata": {
    "collapsed": true
   },
   "outputs": [],
   "source": []
  }
 ],
 "metadata": {
  "kernelspec": {
   "display_name": "Python 2",
   "language": "python",
   "name": "python2"
  },
  "language_info": {
   "codemirror_mode": {
    "name": "ipython",
    "version": 2
   },
   "file_extension": ".py",
   "mimetype": "text/x-python",
   "name": "python",
   "nbconvert_exporter": "python",
   "pygments_lexer": "ipython2",
   "version": "2.7.6"
  }
 },
 "nbformat": 4,
 "nbformat_minor": 2
}
