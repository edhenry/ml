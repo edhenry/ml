{
 "cells": [
  {
   "cell_type": "markdown",
   "metadata": {
    "deletable": true,
    "editable": true
   },
   "source": [
    "## Deep Learning - Goodfellow et al.\n",
    "\n",
    "We will be using these notebooks to review and work through Goodfellow et al.'s Deep Learning text."
   ]
  },
  {
   "cell_type": "markdown",
   "metadata": {
    "deletable": true,
    "editable": true
   },
   "source": [
    "## Chapter 2 - Linear Algebra\n",
    "\n",
    "### 2.1 Scalars, Vectors, Matrices and Tensors\n",
    "\n",
    "#### Scalars\n",
    "\n",
    "A scalar is a single number -- example being the slope of a line, described as $s \\in \\mathbb{R}$ or $n \\in \\mathbb{N}$ described as the number of units when defining the natural number scalars\n",
    "\n",
    "#### Vectors\n",
    "\n",
    "This is an array of numbers typically arranged in order. We can identify the position, or index, of an element using subscript notation for the elements of an array. If $\\mathbf{x}$ is a vector, then we can identify the position of elements within this array as $x_{i}$. Vectors contain elements which reference points in space in $\\mathbb{R}^n$ dimensions. Each element references a coordinate along a different axis. \n",
    "\n",
    "In the example below we use [numpy](http://www.numpy.org/) to create array(s).\n",
    "\n",
    "** note : I use vector and array interchangably **"
   ]
  },
  {
   "cell_type": "code",
   "execution_count": 1,
   "metadata": {
    "collapsed": false,
    "deletable": true,
    "editable": true
   },
   "outputs": [
    {
     "name": "stdout",
     "output_type": "stream",
     "text": [
      "[[ 0.  0.  0.  0.  0.]]\n",
      "[[ 0.64609412  0.56724464  0.16740822  0.31898566  0.62980964]]\n"
     ]
    }
   ],
   "source": [
    "## Numpy representations\n",
    "\n",
    "import numpy as np\n",
    "\n",
    "# Straight forward creation of 5 element vector of zeroes\n",
    "\n",
    "zeroes = np.zeros((1,5))\n",
    "print(zeroes)\n",
    "\n",
    "# Numpy random.rand creates an n-dimensional vector (array) by\n",
    "# sampling values uniformly between (0,1]\n",
    "\n",
    "random_vals = np.random.rand(1,5)\n",
    "print(random_vals)"
   ]
  },
  {
   "cell_type": "markdown",
   "metadata": {
    "deletable": true,
    "editable": true
   },
   "source": [
    "##### Vector Sets\n",
    "\n",
    "Sometimes we need to reference the indices of elements within a vector, and we can do this by defining a set $S = \\{1,3,6\\}$ which references $x_1$, $x_3$, and $x_6$, respectively.\n",
    "\n",
    "We can then use the $-$ sign to define the complement of a given set. For example $x_{-1}$ is the vector $\\mathbf{x}$ containing all elements _except_ the first element, and $x_{-S}$ references the vector containing all elements, except those defined within the set $S$.\n",
    "\n"
   ]
  },
  {
   "cell_type": "code",
   "execution_count": 2,
   "metadata": {
    "collapsed": false,
    "deletable": true,
    "editable": true
   },
   "outputs": [
    {
     "name": "stdout",
     "output_type": "stream",
     "text": [
      "First two elements of zeroes vector:  [ 0.  0.]\n",
      "First two elements of the random vector :  [ 0.64609412  0.56724464]\n"
     ]
    }
   ],
   "source": [
    "# Slicing numpy arrays allows for subsetting vectors within numpy\n",
    "# example below selects first 2 rows of the all zeroes vector\n",
    "\n",
    "print \"First two elements of zeroes vector: \", zeroes[0][:2]\n",
    "\n",
    "# Just to prove this is the case I subset the random_vals array as well\n",
    "print \"First two elements of the random vector : \", random_vals[0][:2]"
   ]
  },
  {
   "cell_type": "code",
   "execution_count": 3,
   "metadata": {
    "collapsed": false,
    "deletable": true,
    "editable": true
   },
   "outputs": [
    {
     "name": "stdout",
     "output_type": "stream",
     "text": [
      "All but last two elements of zeroes vector:  [ 0.  0.  0.]\n",
      "All but last two elements of random_vals vector :  [ 0.64609412  0.56724464  0.16740822]\n"
     ]
    }
   ],
   "source": [
    "# Can we negative subset (for lack of a better term) we can do that \n",
    "# using the same logic\n",
    "\n",
    "print \"All but last two elements of zeroes vector: \", zeroes[0][:-2]\n",
    "\n",
    "print \"All but last two elements of random_vals vector : \", random_vals[0][0:-2]"
   ]
  },
  {
   "cell_type": "markdown",
   "metadata": {
    "deletable": true,
    "editable": true
   },
   "source": [
    "#### Matrices\n",
    "\n",
    "* 2D array of numbers\n",
    "* Use bold typeface to reference an a full matrix $\\textbf{A}$\n",
    "* Matrix has height of $m$ and width of $n$, we say that $A \\in \\mathbb{R}^{m \\times n}$\n",
    "* $A_{1,1}$ is upper left entry of $\\textbf{A}$ and $A_{m,n}$ is the bottom right entry of a general matrix\n",
    "* \":\" used to identify matrix cross-sections\n",
    "    * $A_{i,:}$ = horizontal cross-section (row)\n",
    "    * $A_{:,i}$ = vertical cross-section (column)\n",
    "* Explicit identification of Matrix elements requires presenting the array as such :\n",
    "\n",
    "$$\n",
    "\\begin{bmatrix}\n",
    "A_{1,1} & A_{1,2} \\\\\n",
    "A_{2,1} & A_{2,2}\n",
    "\\end{bmatrix}\n",
    "$$\n",
    "* $f(\\textbf{A})_{i,j}$ gives the i,jth entry of matrix $\\textbf{A}$ after the function $f$ has been applied to the matrix"
   ]
  },
  {
   "cell_type": "code",
   "execution_count": 4,
   "metadata": {
    "collapsed": false,
    "deletable": true,
    "editable": true
   },
   "outputs": [
    {
     "name": "stdout",
     "output_type": "stream",
     "text": [
      "matrix_A : \n",
      "\n",
      "[[ 0.42085999  0.00167903]\n",
      " [ 0.73011407  0.98913491]] \n",
      "\n",
      "Single bottom left entry of matrix_A :  0.989134911958\n"
     ]
    }
   ],
   "source": [
    "# Note the double brackets like the array defined above using numpy\n",
    "# due to the nature of matrix being a generalization of a vector\n",
    "# and a tensor (more below) being the generalization of a matrix\n",
    "# numpy handles matrices a bit different (keeping 2D nature through)\n",
    "# operations, but they're by definition similar\n",
    "\n",
    "matrix_A = np.random.random((2,2))\n",
    "print \"matrix_A : \\n\\n\", matrix_A, \"\\n\"\n",
    "\n",
    "# Then we can call a single entry of the entire matrix\n",
    "print \"Single bottom left entry of matrix_A : \", matrix_A[1][1]"
   ]
  },
  {
   "cell_type": "code",
   "execution_count": 5,
   "metadata": {
    "collapsed": false,
    "deletable": true,
    "editable": true
   },
   "outputs": [
    {
     "name": "stdout",
     "output_type": "stream",
     "text": [
      "The first row of matrix_A is :  [ 0.42085999  0.00167903]\n",
      "The first column of matrix_A is :  [ 0.42085999  0.73011407]\n"
     ]
    }
   ],
   "source": [
    "# Accessing rows and columns in numpy matches the textbook\n",
    "# note the commas before and after the ith element number\n",
    "\n",
    "print \"The first row of matrix_A is : \", matrix_A[0,:]\n",
    "print \"The first column of matrix_A is : \", matrix_A[:,0]"
   ]
  },
  {
   "cell_type": "markdown",
   "metadata": {
    "deletable": true,
    "editable": true
   },
   "source": [
    "##### Tensors\n",
    "\n",
    "* Array with more than two axis\n",
    "* General case - array of numbers arranged on a regular grid with a variable number of axes\n",
    "* Denote a tensor similar to a matrix as $\\textbf{A}$, however will have $(i,j,k)$ coordinates defined.\n",
    "    * $\\textbf{A}_{i,j,k}$"
   ]
  },
  {
   "cell_type": "code",
   "execution_count": 6,
   "metadata": {
    "collapsed": false,
    "deletable": true,
    "editable": true
   },
   "outputs": [
    {
     "name": "stdout",
     "output_type": "stream",
     "text": [
      "[[[9 7 5]\n",
      "  [6 5 8]\n",
      "  [5 9 3]]\n",
      "\n",
      " [[1 7 5]\n",
      "  [1 9 3]\n",
      "  [7 6 3]]\n",
      "\n",
      " [[5 2 3]\n",
      "  [7 9 6]\n",
      "  [4 8 4]]]\n"
     ]
    }
   ],
   "source": [
    "# Example 3x3x3 tensor, using ints for illustrative purposes\n",
    "\n",
    "tensor = np.random.randint(1, 10, (3,3,3))\n",
    "\n",
    "print tensor"
   ]
  },
  {
   "cell_type": "markdown",
   "metadata": {
    "deletable": true,
    "editable": true
   },
   "source": [
    "#### Transpose operation\n",
    "\n",
    "* Mirror image of the matrix across the *main diagonal*\n",
    "    * *main diagonal* starts in upper left hand corner of matrix and ends in bottom right corner\n",
    "* Written as $A^{T}$ or :\n",
    "\n",
    "$$(\\textbf{A}^{T})_{i,j} = \\textbf{A}_{j,i}$$\n",
    "\n",
    "* Vectors are single column matrices -- when transposed we end up with single row matrix\n",
    "* Can notationally write vectors as $\\textbf{x} = [x_{1},x_{2},x_{3}]^{T}$\n",
    "* Scalar can be interpreted as a single entry matrix, as well, therefore a scalars transpose is itself\n",
    "    * $a = a^{T}$"
   ]
  },
  {
   "cell_type": "code",
   "execution_count": 7,
   "metadata": {
    "collapsed": false,
    "deletable": true,
    "editable": true
   },
   "outputs": [
    {
     "name": "stdout",
     "output_type": "stream",
     "text": [
      "Matrix_A before transpose operation is applied : \n",
      "\n",
      "[[ 0.42085999  0.00167903]\n",
      " [ 0.73011407  0.98913491]] \n",
      "\n",
      "Matrix_A after transpost operation is applied : \n",
      "\n",
      "[[ 0.42085999  0.73011407]\n",
      " [ 0.00167903  0.98913491]] \n",
      "\n"
     ]
    }
   ],
   "source": [
    "# The transpose function is a bit hard(er) to see with a 2x2 matrix\n",
    "\n",
    "print \"Matrix_A before transpose operation is applied : \\n\\n\", matrix_A, \"\\n\"\n",
    "\n",
    "print \"Matrix_A after transpost operation is applied : \\n\\n\", matrix_A.T, \"\\n\""
   ]
  },
  {
   "cell_type": "code",
   "execution_count": 8,
   "metadata": {
    "collapsed": false,
    "deletable": true,
    "editable": true
   },
   "outputs": [
    {
     "name": "stdout",
     "output_type": "stream",
     "text": [
      "Matrix_B before transpose operation is applied : \n",
      "\n",
      "[[ 0.57007333  0.0285725   0.55535074]\n",
      " [ 0.78186064  0.4304391   0.28798418]\n",
      " [ 0.96572562  0.25657811  0.88139128]] \n",
      "\n",
      "Matrix_B after transpost operation is applied : \n",
      "\n",
      "[[ 0.57007333  0.78186064  0.96572562]\n",
      " [ 0.0285725   0.4304391   0.25657811]\n",
      " [ 0.55535074  0.28798418  0.88139128]] \n",
      "\n"
     ]
    }
   ],
   "source": [
    "# It's a bit easier to see the transposition with a 3x3 matrix, and on.\n",
    "# Just throwing the 3x3 example in for completeness\n",
    "matrix_B = np.random.random((3,3))\n",
    "\n",
    "print \"Matrix_B before transpose operation is applied : \\n\\n\", matrix_B, \"\\n\"\n",
    "\n",
    "print \"Matrix_B after transpost operation is applied : \\n\\n\", matrix_B.T, \"\\n\""
   ]
  },
  {
   "cell_type": "code",
   "execution_count": 9,
   "metadata": {
    "collapsed": false,
    "deletable": true,
    "editable": true
   },
   "outputs": [
    {
     "name": "stdout",
     "output_type": "stream",
     "text": [
      "Vector before transpose : \n",
      "\n",
      "[[ 0.64288782  0.74985769  0.73505728  0.21337674  0.41584065]] \n",
      "\n",
      "Vector after transpose : \n",
      "\n",
      "[[ 0.64288782]\n",
      " [ 0.74985769]\n",
      " [ 0.73505728]\n",
      " [ 0.21337674]\n",
      " [ 0.41584065]] \n",
      "\n"
     ]
    }
   ],
   "source": [
    "# Transposing single vectors\n",
    "\n",
    "vector = np.random.random((1,5))\n",
    "\n",
    "print \"Vector before transpose : \\n\\n\", vector, \"\\n\"\n",
    "\n",
    "print \"Vector after transpose : \\n\\n\", vector.T, \"\\n\""
   ]
  },
  {
   "cell_type": "markdown",
   "metadata": {
    "deletable": true,
    "editable": true
   },
   "source": [
    "##### Addition operation\n",
    "\n",
    "* Can add matricies as long as they have the same shape by summing their elements\n",
    "\n",
    "$$\\textbf{C} = \\textbf{A} + \\textbf{B}$$\n",
    "\n",
    "where\n",
    "\n",
    "$$C_{i,j} = A_{i,j} + B_{i,j}$$\n",
    "\n",
    "* We can multiply a matrix or add a matrix by a scalar\n",
    "\n",
    "$$\\textbf{D} = a \\cdot \\textbf{B} + c$$\n",
    "\n",
    "where \n",
    "\n",
    "$$D_{i,j} = a \\cdot B_{i,j} + c$$"
   ]
  },
  {
   "cell_type": "code",
   "execution_count": 10,
   "metadata": {
    "collapsed": false,
    "deletable": true,
    "editable": true
   },
   "outputs": [
    {
     "name": "stdout",
     "output_type": "stream",
     "text": [
      "matrix_A_int : \n",
      "\n",
      "  [[8 5 3]\n",
      " [8 7 3]\n",
      " [8 3 9]] \n",
      "\n",
      "matrix_B_int : \n",
      "\n",
      "  [[7 7 6]\n",
      " [8 5 4]\n",
      " [9 6 9]] \n",
      "\n",
      "matrix_C_int : \n",
      "\n",
      "  [[15 12  9]\n",
      " [16 12  7]\n",
      " [17  9 18]] \n",
      "\n"
     ]
    }
   ],
   "source": [
    "# For simplicity I created matrices with ints as entries for ease of \n",
    "# illustration for the addition operations\n",
    "\n",
    "matrix_A_int = np.random.randint(1, 10, (3,3))\n",
    "matrix_B_int = np.random.randint(1, 10, (3,3))\n",
    "\n",
    "print \"matrix_A_int : \\n\\n \", matrix_A_int, \"\\n\"\n",
    "print \"matrix_B_int : \\n\\n \", matrix_B_int, \"\\n\"\n",
    "\n",
    "# Simple addition operator is invoked on the two numpy matrices\n",
    "matrix_C_int = matrix_A_int + matrix_B_int\n",
    "\n",
    "print \"matrix_C_int : \\n\\n \", matrix_C_int, \"\\n\""
   ]
  },
  {
   "cell_type": "code",
   "execution_count": 11,
   "metadata": {
    "collapsed": false,
    "deletable": true,
    "editable": true
   },
   "outputs": [
    {
     "name": "stdout",
     "output_type": "stream",
     "text": [
      "matrix_A_int before scalar addition : \n",
      "\n",
      "[[8 5 3]\n",
      " [8 7 3]\n",
      " [8 3 9]] \n",
      "\n",
      "matrix_A_int after adding a scalar to each element : \n",
      "\n",
      "[[10  7  5]\n",
      " [10  9  5]\n",
      " [10  5 11]]\n"
     ]
    }
   ],
   "source": [
    "# We can also add scalars\n",
    "\n",
    "print \"matrix_A_int before scalar addition : \\n\\n\", matrix_A_int, \"\\n\"\n",
    "\n",
    "print \"matrix_A_int after adding a scalar to each element : \\n\\n\", matrix_A_int + 2"
   ]
  },
  {
   "cell_type": "markdown",
   "metadata": {
    "deletable": true,
    "editable": true
   },
   "source": [
    "###  2.2 Multiplying Matrices and Vectors\n",
    "\n",
    "* **Matrix Product** of matrices $\\textbf{A}$ and $\\textbf{B}$ is a third matrix $\\textbf{C}$ \n",
    "* $\\textbf{A}$ must have same number of columns as $\\textbf{B} has rows$\n",
    "* If $\\textbf{A}$ is of shape $m \\times n$ and $\\textbf{B}$ is of shape $n \\times p$ then $\\textbf{C}$ is of shape $m \\times p$\n",
    "\n",
    "$$\\textbf{C} = \\textbf{A}\\textbf{B}$$\n",
    "\n",
    "where the product operation is defined by (note element references for shape information)\n",
    "\n",
    "$$C_{i,j} = \\sum_{k}A_{i,k}B_{k,j}$$\n",
    "\n",
    "* An important distrinction to make is the standard product of two matrices is _not_ just a matrix containing the product of individual elements. \n",
    "* **element-wise product, or Haddamard product** are the product of individual elements of two matrices\n",
    "* **Hadamard product** is denoted as $\\textbf{A} \\odot \\textbf{B}$\n",
    "\n",
    "* **dot product** of two vectors $x$ and $y$ of the, of the same dimensionality is the matrix product $x^{T}y$"
   ]
  },
  {
   "cell_type": "code",
   "execution_count": 12,
   "metadata": {
    "collapsed": false,
    "deletable": true,
    "editable": true
   },
   "outputs": [
    {
     "data": {
      "text/plain": [
       "array([[56, 35, 18],\n",
       "       [64, 35, 12],\n",
       "       [72, 18, 81]])"
      ]
     },
     "execution_count": 12,
     "metadata": {},
     "output_type": "execute_result"
    }
   ],
   "source": [
    "# Below is an example of the hadamard product\n",
    "\n",
    "hadamard_matrix_C = np.multiply(matrix_A_int, matrix_B_int)\n",
    "\n",
    "hadamard_matrix_C"
   ]
  },
  {
   "cell_type": "code",
   "execution_count": 13,
   "metadata": {
    "collapsed": false,
    "deletable": true,
    "editable": true
   },
   "outputs": [
    {
     "data": {
      "text/plain": [
       "array([[123,  99,  95],\n",
       "       [139, 109, 103],\n",
       "       [161, 125, 141]])"
      ]
     },
     "execution_count": 13,
     "metadata": {},
     "output_type": "execute_result"
    }
   ],
   "source": [
    "# Note the difference between a product of matrices and an element-wise product\n",
    "# of matrices\n",
    "\n",
    "matrix_product_C = np.dot(matrix_A_int, matrix_B_int)\n",
    "\n",
    "matrix_product_C"
   ]
  },
  {
   "cell_type": "markdown",
   "metadata": {
    "deletable": true,
    "editable": true
   },
   "source": [
    "##### Matrix Product Properties\n",
    "\n",
    "* Matrix multiplication is distributive \n",
    "\n",
    "$$ \\textbf{A}(\\textbf{B} + \\textbf{C}) = \\textbf{A}\\textbf{B} + \\textbf{A}\\textbf{C}$$"
   ]
  },
  {
   "cell_type": "code",
   "execution_count": 14,
   "metadata": {
    "collapsed": false,
    "deletable": true,
    "editable": true
   },
   "outputs": [],
   "source": [
    "# We create another, third, matrix of integers to help prove this useful property of matrices\n",
    "# Numpy will return true or false for each element of the matrix according to the distributive\n",
    "# property\n",
    "matrix_C_int = np.random.randint(1, 10, (3,3))"
   ]
  },
  {
   "cell_type": "code",
   "execution_count": 15,
   "metadata": {
    "collapsed": false,
    "deletable": true,
    "editable": true
   },
   "outputs": [
    {
     "name": "stdout",
     "output_type": "stream",
     "text": [
      "[[182 194 161]\n",
      " [216 220 171]\n",
      " [214 234 247]] \n",
      "\n",
      "[[182 194 161]\n",
      " [216 220 171]\n",
      " [214 234 247]] \n",
      "\n",
      "[[ True  True  True]\n",
      " [ True  True  True]\n",
      " [ True  True  True]]\n"
     ]
    }
   ],
   "source": [
    "print np.dot(matrix_A_int, (matrix_B_int + matrix_C_int)), \"\\n\"\n",
    "\n",
    "print np.dot(matrix_A_int, matrix_B_int) + np.dot(matrix_A_int, matrix_C_int), \"\\n\"\n",
    "\n",
    "print np.dot(matrix_A_int, (matrix_B_int + matrix_C_int)) == np.dot(matrix_A_int, matrix_B_int) + np.dot(matrix_A_int, matrix_C_int)"
   ]
  },
  {
   "cell_type": "markdown",
   "metadata": {
    "deletable": true,
    "editable": true
   },
   "source": [
    "* Matrix multiplication is also associative\n",
    "\n",
    "$$\\textbf{A}(\\textbf{B}\\textbf{C}) = (\\textbf{A}\\textbf{B})\\textbf{C}$$"
   ]
  },
  {
   "cell_type": "code",
   "execution_count": 16,
   "metadata": {
    "collapsed": false,
    "deletable": true,
    "editable": true
   },
   "outputs": [
    {
     "name": "stdout",
     "output_type": "stream",
     "text": [
      "[[1204 1882 1379]\n",
      " [1326 2082 1525]\n",
      " [1568 2510 1917]] \n",
      "\n",
      "[[1204 1882 1379]\n",
      " [1326 2082 1525]\n",
      " [1568 2510 1917]] \n",
      "\n",
      "[[ True  True  True]\n",
      " [ True  True  True]\n",
      " [ True  True  True]]\n"
     ]
    }
   ],
   "source": [
    "# Associative property example \n",
    "print np.dot(matrix_A_int, (np.dot(matrix_B_int, matrix_C_int))), \"\\n\"\n",
    "\n",
    "print np.dot(np.dot(matrix_A_int, matrix_B_int),  matrix_C_int), \"\\n\"\n",
    "\n",
    "print np.dot(matrix_A_int, (np.dot(matrix_B_int, matrix_C_int))) == np.dot(np.dot(matrix_A_int, matrix_B_int),  matrix_C_int)"
   ]
  },
  {
   "cell_type": "markdown",
   "metadata": {
    "deletable": true,
    "editable": true
   },
   "source": [
    "* Matrix multiplication is _not_ commutative\n",
    "\n",
    "\n",
    "$$ \\textbf{A}\\textbf{B} \\neq \\textbf{B}\\textbf{A} $$"
   ]
  },
  {
   "cell_type": "code",
   "execution_count": 17,
   "metadata": {
    "collapsed": false,
    "deletable": true,
    "editable": true
   },
   "outputs": [
    {
     "name": "stdout",
     "output_type": "stream",
     "text": [
      "[[123  99  95]\n",
      " [139 109 103]\n",
      " [161 125 141]] \n",
      "\n",
      "[[160 102  96]\n",
      " [136  87  75]\n",
      " [192 114 126]] \n",
      "\n",
      "[[False False False]\n",
      " [False False False]\n",
      " [False False False]]\n"
     ]
    }
   ],
   "source": [
    "# We can see by the example below that the commutative property does _not_ hold\n",
    "\n",
    "print np.dot(matrix_A_int, matrix_B_int), \"\\n\"\n",
    "\n",
    "print np.dot(matrix_B_int, matrix_A_int), \"\\n\"\n",
    "\n",
    "print np.dot(matrix_A_int, matrix_B_int) == np.dot(matrix_B_int, matrix_A_int)"
   ]
  },
  {
   "cell_type": "markdown",
   "metadata": {
    "deletable": true,
    "editable": true
   },
   "source": [
    "* However, the dot product between two vectors is commutative\n",
    "\n",
    "$$\\textbf{x}^T\\textbf{y} = \\textbf{y}^T\\textbf{x}$$"
   ]
  },
  {
   "cell_type": "code",
   "execution_count": 18,
   "metadata": {
    "collapsed": false,
    "deletable": true,
    "editable": true
   },
   "outputs": [],
   "source": [
    "# Dot product between vectors _is_ commutative\n",
    "\n",
    "vec_x = np.random.randint(0, 10, 5)\n",
    "\n",
    "vec_y = np.random.randint(0, 10, 5)"
   ]
  },
  {
   "cell_type": "code",
   "execution_count": 19,
   "metadata": {
    "collapsed": false,
    "deletable": true,
    "editable": true
   },
   "outputs": [
    {
     "name": "stdout",
     "output_type": "stream",
     "text": [
      "24 \n",
      "\n",
      "24 \n",
      "\n",
      "True \n",
      "\n",
      "True \n",
      "\n",
      "[[123 139 161]\n",
      " [ 99 109 125]\n",
      " [ 95 103 141]] \n",
      "\n",
      "[[123 139 161]\n",
      " [ 99 109 125]\n",
      " [ 95 103 141]] \n",
      "\n",
      "[[ True  True  True]\n",
      " [ True  True  True]\n",
      " [ True  True  True]]\n"
     ]
    }
   ],
   "source": [
    "print np.dot(vec_x.T, vec_y), \"\\n\"\n",
    "\n",
    "print np.dot(vec_y.T, vec_x), \"\\n\"\n",
    "\n",
    "print np.dot(vec_x.T, vec_y) == np.dot(vec_y.T, vec_x).T, \"\\n\"\\\n",
    "\n",
    "mid = np.dot(vec_y.T, vec_x).T\n",
    "\n",
    "print np.dot(vec_y.T, vec_x) == mid, \"\\n\"\n",
    "\n",
    "print np.dot(matrix_A_int, matrix_B_int).T, \"\\n\"\n",
    "\n",
    "print np.dot(matrix_B_int.T, matrix_A_int.T), \"\\n\"\n",
    "\n",
    "print np.dot(matrix_A_int, matrix_B_int).T == np.dot(matrix_B_int.T, matrix_A_int.T)"
   ]
  },
  {
   "cell_type": "markdown",
   "metadata": {
    "deletable": true,
    "editable": true
   },
   "source": [
    "### 2.3 Identity and Inverse Matrices\n",
    "\n",
    "* Allows us to analytically solve $\\textbf{A}\\textbf{x} = \\textbf{b}$ for many values of $\\textbf{A}$\n",
    "\n",
    "* **Identity matrix** is a matrix that does _not_ change any vector when multiplied by a matrix\n",
    "\n",
    "* **Identity Matrix** that preserved $n$-dimensional vectors as $\\textbf{I}_n$\n",
    "\n",
    "formally:\n",
    "\n",
    "$$\\textbf{I}_n \\in \\mathbb{R}^{n \\times n}$$\n",
    "\n",
    "$$ \\forall \\textbf{x} \\in \\mathbb{R}^n, \\textbf{I}_n\\textbf{x} = \\textbf{x}$$\n",
    "\n",
    "* All entries along the **main diagonal** are ones, while all other entries are 0"
   ]
  },
  {
   "cell_type": "code",
   "execution_count": 20,
   "metadata": {
    "collapsed": false,
    "deletable": true,
    "editable": true
   },
   "outputs": [
    {
     "name": "stdout",
     "output_type": "stream",
     "text": [
      "[[ 1.  0.  0.]\n",
      " [ 0.  1.  0.]\n",
      " [ 0.  0.  1.]]\n"
     ]
    }
   ],
   "source": [
    "# Example 3x3 identity matrix produced by numpy\n",
    "print np.identity(3)"
   ]
  },
  {
   "cell_type": "markdown",
   "metadata": {
    "deletable": true,
    "editable": true
   },
   "source": [
    "* **Matrix inverse** of $\\textbf{A}$ is denoted as $\\textbf{A}^{-1}$\n",
    "\n",
    "such that : \n",
    "\n",
    "$$\\textbf{A}^{-1}\\textbf{A} = \\textbf{I}_n$$\n",
    "\n",
    "We can now solve $\\textbf{A}\\textbf{x} = \\textbf{b}$ using the following steps :\n",
    "\n",
    "$$\\textbf{A}\\textbf{x} = \\textbf{b}$$\n",
    "\n",
    "$$\\textbf{A}^{-1}\\textbf{A}\\textbf{x} = \\textbf{A}^{-1}\\textbf{b}$$\n",
    "\n",
    "$$\\textbf{I}_n\\textbf{x} = \\textbf{A}^{-1}\\textbf{b}$$\n",
    "\n",
    "$$\\textbf{x} = \\textbf{A}^{-1}\\textbf{b}$$\n",
    "\n",
    "* This is dependent on if $\\textbf{A}^{-1}$ exists\n",
    "* $\\textbf{A}$ is more a theoretic tool than anything else as computers have limited precision, we have algorithms that can make use of the value $\\textbf{b}$ can usually provide a more accurate estimation of $\\textbf{x}$"
   ]
  },
  {
   "cell_type": "code",
   "execution_count": 56,
   "metadata": {
    "collapsed": false
   },
   "outputs": [
    {
     "name": "stdout",
     "output_type": "stream",
     "text": [
      "Matrix A : \n",
      "\n",
      "[[9 3 0]\n",
      " [9 5 6]\n",
      " [0 3 8]] \n",
      "\n",
      "Vector B : \n",
      "\n",
      "[5 0 3] \n",
      "\n"
     ]
    }
   ],
   "source": [
    "# We'll create a new A, and b for use in this example\n",
    "\n",
    "A = np.random.randint(0, 10, (3,3))\n",
    "b = np.random.randint(0, 10, 3)\n",
    "\n",
    "print \"Matrix A : \\n\\n\", A, \"\\n\"\n",
    "print \"Vector B : \\n\\n\", b, \"\\n\" "
   ]
  },
  {
   "cell_type": "code",
   "execution_count": 57,
   "metadata": {
    "collapsed": false
   },
   "outputs": [
    {
     "data": {
      "text/plain": [
       "array([ -9.11111111,  29.        , -10.5       ])"
      ]
     },
     "execution_count": 57,
     "metadata": {},
     "output_type": "execute_result"
    }
   ],
   "source": [
    "# Ax = b example. Numpy has a built-in solver\n",
    "x = np.linalg.solve(A, b)\n",
    "print x"
   ]
  },
  {
   "cell_type": "code",
   "execution_count": 76,
   "metadata": {
    "collapsed": false
   },
   "outputs": [
    {
     "name": "stdout",
     "output_type": "stream",
     "text": [
      "[5 0 3]\n",
      "[ True  True  True]\n"
     ]
    }
   ],
   "source": [
    "# We can see now that Ax does indeed equal b\n",
    "# We round because precision\n",
    "print b\n",
    "print np.matrix.round(np.dot(A, x)) == b"
   ]
  },
  {
   "cell_type": "code",
   "execution_count": 77,
   "metadata": {
    "collapsed": false
   },
   "outputs": [
    {
     "name": "stdout",
     "output_type": "stream",
     "text": [
      "[ -9.11111111  29.         -10.5       ]\n",
      "[ -9.11111111  29.         -10.5       ]\n"
     ]
    }
   ],
   "source": [
    "# A^{-1}Ax = A^{-1}b\n",
    "print np.dot(np.dot(np.linalg.inv(A), A), x) \n",
    "\n",
    "# x = A^{-1}b\n",
    "print np.dot(np.linalg.inv(A), b)"
   ]
  },
  {
   "cell_type": "markdown",
   "metadata": {
    "deletable": true,
    "editable": true
   },
   "source": [
    "### 2.4 Linear Dependence and Span\n",
    "\n",
    "* In order for $\\textbf{A}^{-1}$ to exist $\\textbf{A}\\textbf{x} = \\textbf{b}$ must have exactly one solution for every value of $\\textbf{b}$\n",
    "\n",
    "* It is not possible to have more than one but less than infinity many solutions for a particular $\\textbf{b}$; if both $\\textbf{x}$ and $\\textbf{y}$ are solutions then\n",
    "\n",
    "$$\\textbf{z} = \\alpha\\textbf{x} + (1 - \\alpha)\\textbf{y}$$\n",
    "\n",
    "is also a real solution for any real $\\alpha$.\n",
    "\n",
    "* To analyze how many solutions the equation has, we can think of the columns of $\\textbf{A}$ as specifying different directions we can travel from the **origin** (the vector of all zeroes) and determining how many ways there are to reach $\\textbf{b}$\n",
    "\n",
    "* $\\textbf{x}$ specifies how far to move in the direction of column $i$\n",
    "\n",
    "$$ \\textbf{A}\\textbf{x} = \\sum_{i} x_{i} \\textbf{A}_{:,i}$$\n",
    "\n",
    "* In general this operation is called a **linear combination**\n",
    "\n",
    "Formally defined as some set of vectors ${\\textbf{v}^{(i)},...,\\textbf{v}^{(n)}}$ is given by multiplying each vector $\\textbf{v}^{(i)}$ by a corresponding coefficient and summing the results\n",
    "\n",
    "$$ \\sum_{i} c_{i} \\textbf{v}^{(i)}$$\n",
    "\n",
    "* **Span** of a set of vectors is the set of all points obtainable by linear combination of the original vectors\n",
    "\n",
    "\n",
    "* Determining whether $\\textbf{A}\\textbf{x} = \\textbf{b}$ amounts to testing whether $\\textbf{b}$ is in the **span** of the columns of $\\textbf{A}$, also known as the **column space** or **range** of $\\textbf{A}$\n",
    "\n",
    "* In order for the system $\\textbf{A}\\textbf{x} = \\textbf{b}$ to have a solution for all values of $\\textbf{b} \\in \\mathbb{R}^{m}$ we require the column space of $\\textbf{A}$ be all of $\\mathbb{R}^m$"
   ]
  },
  {
   "cell_type": "code",
   "execution_count": 214,
   "metadata": {
    "collapsed": false,
    "deletable": true,
    "editable": true
   },
   "outputs": [],
   "source": [
    "from matplotlib import pyplot as plt\n",
    "from mpl_toolkits.mplot3d import Axes3D\n",
    "from mpl_toolkits.mplot3d import proj3d\n",
    "from matplotlib.patches import FancyArrowPatch\n",
    "\n",
    "%matplotlib inline\n",
    "\n",
    "dist_test = np.random.randint(0,10, (3,3))\n",
    "origin = np.zeros(3, dtype=np.int)"
   ]
  },
  {
   "cell_type": "code",
   "execution_count": 215,
   "metadata": {
    "collapsed": false
   },
   "outputs": [
    {
     "name": "stdout",
     "output_type": "stream",
     "text": [
      "[[9 2 6]\n",
      " [8 3 7]\n",
      " [3 2 5]] \n",
      "\n",
      "[9 8 3]\n"
     ]
    }
   ],
   "source": [
    "print dist_test, \"\\n\"\n",
    "print dist_test[:,0]\n"
   ]
  },
  {
   "cell_type": "code",
   "execution_count": 224,
   "metadata": {
    "collapsed": false
   },
   "outputs": [
    {
     "data": {
      "image/png": "[encoded data removed]",
      "text/plain": [
       "<matplotlib.figure.Figure at 0x7fac7aa011d0>"
      ]
     },
     "metadata": {},
     "output_type": "display_data"
    }
   ],
   "source": [
    "fig = plt.figure()\n",
    "ax = Axes3D(fig)\n",
    "ax.set_xlim3d(0, 12)\n",
    "ax.set_ylim3d(0, 12)\n",
    "ax.set_zlim3d(0, 12)\n",
    "\n",
    "#ax.quiver3D(origin, origin, origin,\n",
    "#           [origin, dist_test[:,0]], [origin,dist_test[:,1]],\n",
    "#           [origin, dist_test[:,2]])\n",
    "\n",
    "plot = ax.plot3D(dist_test[:,0], dist_test[:,1], dist_test[:,2],\n",
    "         'o', color='r')\n",
    "plt.show()"
   ]
  },
  {
   "cell_type": "markdown",
   "metadata": {},
   "source": [
    "### Norms\n",
    "\n",
    "* When measuring the size of a vector, we normally use a function called a**norm**, formally the $L^{p}$ norm is given by\n",
    "\n",
    "$$ ||\\textbf{x}||_{p} = \\left(\\sum_{i}|x_{i}|^{p}\\right)^{\\frac{1}{p}}$$\n",
    "\n",
    "for $p \\in \\mathbb{R}, p \\ge 1$\n",
    "\n",
    "* Norms are functions mapping vectors to non-negative values\n",
    "\n",
    "\n",
    "* Intuitively norms of a vector $\\textbf{x}$ measure the distance from the origin to the point $\\textbf{x}$\n",
    "\n",
    "\n",
    "* Rigorously, a norm is a function $f$ that satisifies\n",
    "    * $f(\\textbf{x}) = 0 \\mapsto \\textbf{x} = \\textbf{0}$\n",
    "    * $f(\\textbf{x} + \\textbf{y}) \\le f(\\textbf{x}) + f(\\textbf{y})$ (**triangle inequality**)\n",
    "    * $\\forall \\alpha \\in \\mathbb{R}, f(\\alpha\\textbf{x}) = |\\alpha|f(\\textbf{x})$\n",
    "    \n",
    "    \n",
    "* **Euclidean norm** is the **norm** where $p=2$\n",
    "\n",
    "* It is common to measure the squared $L^{2}$ norm, which can be calculated by $\\textbf{x}^{T}\\textbf{x}$\n",
    "\n"
   ]
  },
  {
   "cell_type": "code",
   "execution_count": 247,
   "metadata": {
    "collapsed": false
   },
   "outputs": [
    {
     "name": "stdout",
     "output_type": "stream",
     "text": [
      "7.93725393319\n",
      "63\n"
     ]
    }
   ],
   "source": [
    "# numpy's built-in linalg.norm function by default returns the \n",
    "# Euclidean norm, but can return many others, for a given matrix\n",
    "\n",
    "print np.linalg.norm(vec_x)\n",
    "\n",
    "# squared L2 norm can be calculated x^Tx\n",
    "print np.dot(vec_x.T, vec_x)"
   ]
  },
  {
   "cell_type": "code",
   "execution_count": 245,
   "metadata": {
    "collapsed": false
   },
   "outputs": [
    {
     "data": {
      "text/plain": [
       "63"
      ]
     },
     "execution_count": 245,
     "metadata": {},
     "output_type": "execute_result"
    }
   ],
   "source": []
  },
  {
   "cell_type": "code",
   "execution_count": null,
   "metadata": {
    "collapsed": true
   },
   "outputs": [],
   "source": []
  }
 ],
 "metadata": {
  "kernelspec": {
   "display_name": "Python 2",
   "language": "python",
   "name": "python2"
  },
  "language_info": {
   "codemirror_mode": {
    "name": "ipython",
    "version": 2
   },
   "file_extension": ".py",
   "mimetype": "text/x-python",
   "name": "python",
   "nbconvert_exporter": "python",
   "pygments_lexer": "ipython2",
   "version": "2.7.12"
  }
 },
 "nbformat": 4,
 "nbformat_minor": 2
}
