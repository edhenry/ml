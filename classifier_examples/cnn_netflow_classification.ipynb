{
 "cells": [
  {
   "cell_type": "code",
   "execution_count": null,
   "metadata": {
    "collapsed": true
   },
   "outputs": [],
   "source": [
    "import tensorflow as tf\n",
    "import numpy as np\n",
    "\n",
    "class FlowCNN(object):\n",
    "    \"\"\"\n",
    "    A class for Flow classification.\n",
    "    Uses an embedded layer, followed by a convolution layer, max-pooling,\n",
    "    and soft-max layer.\n",
    "    \n",
    "    window_length : length of our windows\n",
    "    num_classes : number of classes on the output layer\n",
    "    unique_flow_size : number of unique flows (PROTO,SRCIP,DSTIP,DPORT)\n",
    "    embedding_size : Dimensionality of our embeddings\n",
    "    filter_sizes : number of flows we want our filters to cover\n",
    "    num_fiters : number of filters per filter size\n",
    "    \"\"\"\n",
    "    \n",
    "    def __init__(self, window_length, num_classes, \n",
    "                 unique_flow_size, embedding_size, \n",
    "                 filter_sizes, num_filters):\n",
    "        \n",
    "            \n",
    "    "
   ]
  }
 ],
 "metadata": {
  "kernelspec": {
   "display_name": "Python 3",
   "language": "python",
   "name": "python3"
  },
  "language_info": {
   "codemirror_mode": {
    "name": "ipython",
    "version": 3
   },
   "file_extension": ".py",
   "mimetype": "text/x-python",
   "name": "python",
   "nbconvert_exporter": "python",
   "pygments_lexer": "ipython3",
   "version": "3.4.3"
  }
 },
 "nbformat": 4,
 "nbformat_minor": 0
}
