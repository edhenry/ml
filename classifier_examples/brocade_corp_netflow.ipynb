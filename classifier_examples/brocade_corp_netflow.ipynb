{
 "cells": [
  {
   "cell_type": "code",
   "execution_count": 1,
   "metadata": {
    "collapsed": false
   },
   "outputs": [],
   "source": [
    "import pandas as pd\n",
    "import numpy as np\n",
    "from kmodes import kmodes\n",
    "from kmodes import kprototypes\n",
    "from fp_growth import find_frequent_itemsets\n",
    "import matplotlib.pyplot as plt\n",
    "import mpld3\n",
    "from datetime import datetime, timedelta, date\n",
    "import time\n",
    "\n",
    "%matplotlib inline\n",
    "\n",
    "# Enable mpld3 for notebook\n",
    "mpld3.enable_notebook()\n",
    "\n",
    "# Timestamp goodness\n",
    "def timestamp(dataframe):\n",
    "    timestamps = []\n",
    "    for row in dataframe.iterrows():\n",
    "        timestamps.append(time.ctime(row[1][4] - (row[1][3] - row[1][19]) / 1000))\n",
    "    dataframe['TIMESTAMP'] = timestamps\n",
    "    return dataframe"
   ]
  },
  {
   "cell_type": "code",
   "execution_count": 3,
   "metadata": {
    "collapsed": true
   },
   "outputs": [],
   "source": [
    "np.random.seed(1234)"
   ]
  },
  {
   "cell_type": "code",
   "execution_count": null,
   "metadata": {
    "collapsed": false
   },
   "outputs": [],
   "source": [
    "# unixSeconds - sysUpTime + FIRST_SWITCHED\n",
    "time.ctime(1454085029 - (587231704 - 587213704) / 1000)"
   ]
  },
  {
   "cell_type": "code",
   "execution_count": 22,
   "metadata": {
    "collapsed": false
   },
   "outputs": [],
   "source": [
    "# Import netflow capture file(s)\n",
    "\n",
    "# Crate dataframe\n",
    "brocade_flowdata = pd.DataFrame()\n",
    "\n",
    "# List of csv's to read in\n",
    "brocade_cap_files = [\"/home/ehenry/code/ml/classifier_examples/1454084206.csv\"]\n",
    "\n",
    "# Read in the csv's and append to dataframe\n",
    "for f in brocade_cap_files:\n",
    "    frame = pd.read_csv(f, sep=';')\n",
    "    brocade_flowdata = brocade_flowdata.append(frame, ignore_index=True)"
   ]
  },
  {
   "cell_type": "code",
   "execution_count": 23,
   "metadata": {
    "collapsed": false
   },
   "outputs": [
    {
     "data": {
      "text/plain": [
       "timeReceived                           float64\n",
       "nfHost                                  object\n",
       "nfSourceID                               int64\n",
       "sysUpTime                                int64\n",
       "unixSeconds                              int64\n",
       "sequenceNumber                           int64\n",
       "flowSetID                                int64\n",
       "IN_BYTES                                 int64\n",
       "IN_PKTS                                  int64\n",
       "PROTOCOL                                 int64\n",
       "TOS                                      int64\n",
       "TCP_FLAGS                                int64\n",
       "L4_SRC_PORT                              int64\n",
       "IPV4_SRC_ADDR                           object\n",
       "INPUT_SNMP                               int64\n",
       "L4_DST_PORT                              int64\n",
       "IPV4_DST_ADDR                           object\n",
       "OUTPUT_SNMP                              int64\n",
       "LAST_SWITCHED                            int64\n",
       "FIRST_SWITCHED                           int64\n",
       "IPV6_SRC_ADDR                           object\n",
       "IPV6_DST_ADDR                           object\n",
       "ICMP_TYPE                                int64\n",
       "DIRECTION                                int64\n",
       "flowId                                   int64\n",
       "postNATSourceIPv4Address                object\n",
       "postNATDestinationIPv4Address           object\n",
       "postNAPTSourceTransportAddress         float64\n",
       "postNAPTDestinationTransportAddress    float64\n",
       "firewallEvent                            int64\n",
       "postNATSourceIPv6Address               float64\n",
       "postNATDestinationIPv6Address          float64\n",
       "privateEnterpriseNumber                float64\n",
       "App-ID                                 float64\n",
       "User-ID                                float64\n",
       "dtype: object"
      ]
     },
     "execution_count": 23,
     "metadata": {},
     "output_type": "execute_result"
    }
   ],
   "source": [
    "brocade_flowdata.dtypes"
   ]
  },
  {
   "cell_type": "code",
   "execution_count": 24,
   "metadata": {
    "collapsed": true
   },
   "outputs": [],
   "source": [
    "# Convert and append timestamps\n",
    "brocade_flowdata_ts = timestamp(brocade_flowdata)"
   ]
  },
  {
   "cell_type": "code",
   "execution_count": 25,
   "metadata": {
    "collapsed": true
   },
   "outputs": [],
   "source": [
    "# Convert variables to respective type\n",
    "# cont = continuous\n",
    "# cat = categorical\n",
    "\n",
    "cat_cols = ['nfHost','nfSourceID','sequenceNumber','flowSetID','PROTOCOL',\n",
    "            'TOS', 'TCP_FLAGS','L4_SRC_PORT','IPV4_SRC_ADDR','INPUT_SNMP',\n",
    "            'L4_DST_PORT','IPV4_DST_ADDR','OUTPUT_SNMP','IPV6_SRC_ADDR',\n",
    "            'IPV6_DST_ADDR','ICMP_TYPE',\n",
    "            'DIRECTION','flowId','postNATSourceIPv4Address',\n",
    "            'postNATDestinationIPv4Address','postNAPTSourceTransportAddress',\n",
    "            'postNAPTDestinationTransportAddress','firewallEvent',\n",
    "            'postNATSourceIPv6Address','postNATDestinationIPv6Address',\n",
    "            'privateEnterpriseNumber','App-ID','User-ID']\n",
    "\n",
    "cont_cols = ['timeReceived','IN_BYTES',\n",
    "             'sysUpTime','unixSeconds','FIRST_SWITCHED',\n",
    "             'LAST_SWITCHED']\n",
    "\n",
    "for c in cat_cols:\n",
    "    brocade_flowdata[c] = brocade_flowdata[c].astype('category')\n",
    "\n",
    "for c in cont_cols:\n",
    "    brocade_flowdata[c] = brocade_flowdata[c].astype('float64')\n",
    "\n",
    "# Strip whitespace\n",
    "brocade_flowdata.rename(columns=lambda x: x.strip(), inplace = True)"
   ]
  },
  {
   "cell_type": "code",
   "execution_count": 26,
   "metadata": {
    "collapsed": true
   },
   "outputs": [],
   "source": [
    "ipv4_brcd_flwdt = brocade_flowdata.loc[:,['TIMESTAMP','flowId','PROTOCOL',\n",
    "                                          'IPV4_SRC_ADDR','L4_SRC_PORT','IPV4_DST_ADDR',\n",
    "                                          'L4_DST_PORT','DIRECTION','IN_BYTES', \n",
    "                                          'IN_PKTS','FIRST_SWITCHED','LAST_SWITCHED',]]\n",
    "\n",
    "cats_10 = ['flowId','PROTOCOL','IPV4_SRC_ADDR', \n",
    "           'L4_SRC_PORT','IPV4_DST_ADDR','L4_DST_PORT',\n",
    "           'DIRECTION']\n",
    "\n",
    "for c in cats_10:\n",
    "    ipv4_brcd_flwdt[c] = ipv4_brcd_flwdt[c].astype('category')"
   ]
  },
  {
   "cell_type": "code",
   "execution_count": 27,
   "metadata": {
    "collapsed": false
   },
   "outputs": [
    {
     "data": {
      "text/html": [
       "<div>\n",
       "<table border=\"1\" class=\"dataframe\">\n",
       "  <thead>\n",
       "    <tr style=\"text-align: right;\">\n",
       "      <th></th>\n",
       "      <th>TIMESTAMP</th>\n",
       "      <th>flowId</th>\n",
       "      <th>PROTOCOL</th>\n",
       "      <th>IPV4_SRC_ADDR</th>\n",
       "      <th>L4_SRC_PORT</th>\n",
       "      <th>IPV4_DST_ADDR</th>\n",
       "      <th>L4_DST_PORT</th>\n",
       "      <th>DIRECTION</th>\n",
       "      <th>IN_BYTES</th>\n",
       "      <th>IN_PKTS</th>\n",
       "      <th>FIRST_SWITCHED</th>\n",
       "      <th>LAST_SWITCHED</th>\n",
       "    </tr>\n",
       "  </thead>\n",
       "  <tbody>\n",
       "    <tr>\n",
       "      <th>0</th>\n",
       "      <td>Fri Jan 29 15:55:10 2016</td>\n",
       "      <td>311091</td>\n",
       "      <td>6</td>\n",
       "      <td>10.252.132.20</td>\n",
       "      <td>50246</td>\n",
       "      <td>216.58.192.46</td>\n",
       "      <td>443</td>\n",
       "      <td>0</td>\n",
       "      <td>70</td>\n",
       "      <td>1</td>\n",
       "      <td>585112704</td>\n",
       "      <td>585112704</td>\n",
       "    </tr>\n",
       "    <tr>\n",
       "      <th>1</th>\n",
       "      <td>Fri Jan 29 15:55:11 2016</td>\n",
       "      <td>33828306</td>\n",
       "      <td>6</td>\n",
       "      <td>10.252.132.6</td>\n",
       "      <td>59032</td>\n",
       "      <td>192.168.1.23</td>\n",
       "      <td>52323</td>\n",
       "      <td>0</td>\n",
       "      <td>66</td>\n",
       "      <td>1</td>\n",
       "      <td>585113704</td>\n",
       "      <td>585113704</td>\n",
       "    </tr>\n",
       "    <tr>\n",
       "      <th>2</th>\n",
       "      <td>Fri Jan 29 15:55:11 2016</td>\n",
       "      <td>34890688</td>\n",
       "      <td>17</td>\n",
       "      <td>10.70.20.23</td>\n",
       "      <td>58877</td>\n",
       "      <td>61.172.201.254</td>\n",
       "      <td>53</td>\n",
       "      <td>0</td>\n",
       "      <td>88</td>\n",
       "      <td>1</td>\n",
       "      <td>585113704</td>\n",
       "      <td>585113704</td>\n",
       "    </tr>\n",
       "    <tr>\n",
       "      <th>3</th>\n",
       "      <td>Fri Jan 29 15:55:10 2016</td>\n",
       "      <td>67336502</td>\n",
       "      <td>6</td>\n",
       "      <td>10.130.53.5</td>\n",
       "      <td>62406</td>\n",
       "      <td>23.5.251.27</td>\n",
       "      <td>80</td>\n",
       "      <td>0</td>\n",
       "      <td>70</td>\n",
       "      <td>1</td>\n",
       "      <td>585112704</td>\n",
       "      <td>585112704</td>\n",
       "    </tr>\n",
       "    <tr>\n",
       "      <th>4</th>\n",
       "      <td>Fri Jan 29 15:55:10 2016</td>\n",
       "      <td>68080560</td>\n",
       "      <td>17</td>\n",
       "      <td>10.252.131.68</td>\n",
       "      <td>55105</td>\n",
       "      <td>10.70.20.23</td>\n",
       "      <td>53</td>\n",
       "      <td>0</td>\n",
       "      <td>91</td>\n",
       "      <td>1</td>\n",
       "      <td>585112704</td>\n",
       "      <td>585112704</td>\n",
       "    </tr>\n",
       "    <tr>\n",
       "      <th>5</th>\n",
       "      <td>Fri Jan 29 15:55:11 2016</td>\n",
       "      <td>34501117</td>\n",
       "      <td>17</td>\n",
       "      <td>10.70.20.43</td>\n",
       "      <td>52284</td>\n",
       "      <td>205.251.195.166</td>\n",
       "      <td>53</td>\n",
       "      <td>0</td>\n",
       "      <td>134</td>\n",
       "      <td>1</td>\n",
       "      <td>585113704</td>\n",
       "      <td>585113704</td>\n",
       "    </tr>\n",
       "    <tr>\n",
       "      <th>6</th>\n",
       "      <td>Fri Jan 29 15:55:07 2016</td>\n",
       "      <td>473184</td>\n",
       "      <td>6</td>\n",
       "      <td>192.168.1.23</td>\n",
       "      <td>52323</td>\n",
       "      <td>10.252.132.6</td>\n",
       "      <td>59043</td>\n",
       "      <td>0</td>\n",
       "      <td>0</td>\n",
       "      <td>0</td>\n",
       "      <td>585109704</td>\n",
       "      <td>585112704</td>\n",
       "    </tr>\n",
       "    <tr>\n",
       "      <th>7</th>\n",
       "      <td>Fri Jan 29 15:55:10 2016</td>\n",
       "      <td>68080560</td>\n",
       "      <td>17</td>\n",
       "      <td>10.70.20.23</td>\n",
       "      <td>53</td>\n",
       "      <td>10.252.131.68</td>\n",
       "      <td>55105</td>\n",
       "      <td>0</td>\n",
       "      <td>0</td>\n",
       "      <td>0</td>\n",
       "      <td>585112704</td>\n",
       "      <td>585112704</td>\n",
       "    </tr>\n",
       "    <tr>\n",
       "      <th>8</th>\n",
       "      <td>Fri Jan 29 15:55:10 2016</td>\n",
       "      <td>67326420</td>\n",
       "      <td>6</td>\n",
       "      <td>10.102.137.218</td>\n",
       "      <td>52069</td>\n",
       "      <td>54.246.126.156</td>\n",
       "      <td>80</td>\n",
       "      <td>0</td>\n",
       "      <td>70</td>\n",
       "      <td>1</td>\n",
       "      <td>585112704</td>\n",
       "      <td>585112704</td>\n",
       "    </tr>\n",
       "    <tr>\n",
       "      <th>9</th>\n",
       "      <td>Fri Jan 29 15:55:11 2016</td>\n",
       "      <td>33839017</td>\n",
       "      <td>6</td>\n",
       "      <td>10.252.132.7</td>\n",
       "      <td>64835</td>\n",
       "      <td>10.70.20.124</td>\n",
       "      <td>389</td>\n",
       "      <td>0</td>\n",
       "      <td>78</td>\n",
       "      <td>1</td>\n",
       "      <td>585113704</td>\n",
       "      <td>585113704</td>\n",
       "    </tr>\n",
       "  </tbody>\n",
       "</table>\n",
       "</div>"
      ],
      "text/plain": [
       "                  TIMESTAMP    flowId PROTOCOL   IPV4_SRC_ADDR L4_SRC_PORT  \\\n",
       "0  Fri Jan 29 15:55:10 2016    311091        6   10.252.132.20       50246   \n",
       "1  Fri Jan 29 15:55:11 2016  33828306        6    10.252.132.6       59032   \n",
       "2  Fri Jan 29 15:55:11 2016  34890688       17     10.70.20.23       58877   \n",
       "3  Fri Jan 29 15:55:10 2016  67336502        6     10.130.53.5       62406   \n",
       "4  Fri Jan 29 15:55:10 2016  68080560       17   10.252.131.68       55105   \n",
       "5  Fri Jan 29 15:55:11 2016  34501117       17     10.70.20.43       52284   \n",
       "6  Fri Jan 29 15:55:07 2016    473184        6    192.168.1.23       52323   \n",
       "7  Fri Jan 29 15:55:10 2016  68080560       17     10.70.20.23          53   \n",
       "8  Fri Jan 29 15:55:10 2016  67326420        6  10.102.137.218       52069   \n",
       "9  Fri Jan 29 15:55:11 2016  33839017        6    10.252.132.7       64835   \n",
       "\n",
       "     IPV4_DST_ADDR L4_DST_PORT DIRECTION  IN_BYTES  IN_PKTS  FIRST_SWITCHED  \\\n",
       "0    216.58.192.46         443         0        70        1       585112704   \n",
       "1     192.168.1.23       52323         0        66        1       585113704   \n",
       "2   61.172.201.254          53         0        88        1       585113704   \n",
       "3      23.5.251.27          80         0        70        1       585112704   \n",
       "4      10.70.20.23          53         0        91        1       585112704   \n",
       "5  205.251.195.166          53         0       134        1       585113704   \n",
       "6     10.252.132.6       59043         0         0        0       585109704   \n",
       "7    10.252.131.68       55105         0         0        0       585112704   \n",
       "8   54.246.126.156          80         0        70        1       585112704   \n",
       "9     10.70.20.124         389         0        78        1       585113704   \n",
       "\n",
       "   LAST_SWITCHED  \n",
       "0      585112704  \n",
       "1      585113704  \n",
       "2      585113704  \n",
       "3      585112704  \n",
       "4      585112704  \n",
       "5      585113704  \n",
       "6      585112704  \n",
       "7      585112704  \n",
       "8      585112704  \n",
       "9      585113704  "
      ]
     },
     "execution_count": 27,
     "metadata": {},
     "output_type": "execute_result"
    }
   ],
   "source": [
    "ipv4_brcd_flwdt.head(n=10)"
   ]
  },
  {
   "cell_type": "markdown",
   "metadata": {},
   "source": [
    "#Brocade Flowdata\n",
    "\n",
    "### Notes\n",
    "\n",
    "* Palo Alto Firwalls don't provide what I'll call wall-clock timestamps, only RFC3954 FIRST_SWITCHED AND LAST_SWITCHED fields - https://live.paloaltonetworks.com/t5/Documentation-Articles/PAN-OS-Netflow-Templates-and-Field-Types-PAN-OS-5-0/ta-p/54223?attachment-id=1816\n",
    "\n",
    "* flowId field is IPFIX (RFC5102) compliant in that it provides a unique flowId to all different Flows (\"different\" is ambiguous in the RFC as well) - https://tools.ietf.org/html/rfc5102#page-22\n",
    "\n",
    "We should be able to sort flows by the FIRST_SWITCHED column to maintain received order of the flows, with respect to the Palo Alto."
   ]
  },
  {
   "cell_type": "code",
   "execution_count": 28,
   "metadata": {
    "collapsed": false
   },
   "outputs": [
    {
     "name": "stdout",
     "output_type": "stream",
     "text": [
      "3704276\n",
      "3686524\n"
     ]
    }
   ],
   "source": [
    "print(len(ipv4_brcd_flwdt))\n",
    "ipv4_brcd_flwdt = ipv4_brcd_flwdt.dropna()\n",
    "print(len(ipv4_brcd_flwdt))"
   ]
  },
  {
   "cell_type": "markdown",
   "metadata": {},
   "source": [
    "## Kmodes\n",
    "\n",
    "Testing kmodes using just categorical data"
   ]
  },
  {
   "cell_type": "code",
   "execution_count": null,
   "metadata": {
    "collapsed": false
   },
   "outputs": [],
   "source": [
    "#Limit this research to categorical vars for now\n",
    "\n",
    "brocade_flowdata_cats = brocade_flowdata.loc[:,['protocol','ipv4_src_addr', 'l4_src_port',\n",
    "                                                  'ipv4_dst_addr','l4_dst_port']]\n",
    "\n",
    "# Cast each row (flow) as a tuple and store in array for use with\n",
    "# kmodes algorithm\n",
    "modes_tuples = [tuple(x) for x in brocade_flowdata_cats.values]"
   ]
  },
  {
   "cell_type": "code",
   "execution_count": null,
   "metadata": {
    "collapsed": false
   },
   "outputs": [],
   "source": [
    "#kmodes test\n",
    "\n",
    "km = kmodes.KModes(n_clusters=20, init='Huang', n_init=5, verbose=5)\n",
    "clusters = km.fit_predict(tuples[0:50000])"
   ]
  },
  {
   "cell_type": "code",
   "execution_count": null,
   "metadata": {
    "collapsed": false
   },
   "outputs": [],
   "source": [
    "cluster_assignments = zip(tuples[0:200], clusters)"
   ]
  },
  {
   "cell_type": "markdown",
   "metadata": {},
   "source": [
    "## KPrototypes\n",
    "\n",
    "Testing Kprototypes using both continuous and categorical data"
   ]
  },
  {
   "cell_type": "code",
   "execution_count": null,
   "metadata": {
    "collapsed": false
   },
   "outputs": [],
   "source": [
    "#Limit this research to categorical vars for now\n",
    "\n",
    "brocade_flowdata_mix = brocade_flowdata.loc[:,['protocol','ipv4_src_addr', \n",
    "                                               'l4_src_port','ipv4_dst_addr','l4_dst_port',\n",
    "                                               'in_pkts','in_bytes']]\n",
    "\n",
    "# Normalize the continuous vars\n",
    "\n",
    "norm_columns = ['in_pkts', 'in_bytes']\n",
    "\n",
    "brocade_flowdata_mix[norm_columns] = brocade_flowdata_mix[norm_columns].apply(lambda x: (x - x.mean()) / \n",
    "                                                                              (x.max() - x.min()))"
   ]
  },
  {
   "cell_type": "code",
   "execution_count": null,
   "metadata": {
    "collapsed": false
   },
   "outputs": [],
   "source": [
    "# Convert dataframe to np.array() for use with\n",
    "# kprototypes algorithm\n",
    "\n",
    "brocade_flowdata_mix_mat = brocade_flowdata_mix.as_matrix()"
   ]
  },
  {
   "cell_type": "code",
   "execution_count": null,
   "metadata": {
    "collapsed": false
   },
   "outputs": [],
   "source": [
    "#kprototypes test\n",
    "\n",
    "n_clusters = 160\n",
    "\n",
    "km = kprototypes.KPrototypes(n_clusters, init='Cao', max_iter=100)\n",
    "proto_clusters = km.fit_predict(brocade_flowdata_mix_mat[0:10000], categorical=[0,1,2,3,4,5])"
   ]
  },
  {
   "cell_type": "code",
   "execution_count": null,
   "metadata": {
    "collapsed": false
   },
   "outputs": [],
   "source": [
    "# combine dataframe entries with resultant clusterId\n",
    "\n",
    "proto_cluster_assignments = zip(brocade_flowdata_mix_mat[0:10000], proto_clusters)"
   ]
  },
  {
   "cell_type": "code",
   "execution_count": null,
   "metadata": {
    "collapsed": false
   },
   "outputs": [],
   "source": [
    "# instantiate dataframe to house new cluster data\n",
    "\n",
    "cluster_df = pd.DataFrame(columns=('protocol','ipv4_src_addr', 'l4_src_port',\n",
    "                                   'ipv4_dst_addr','l4_dst_port','in_pkts',\n",
    "                                   'in_bytes','cluster_id'))\n",
    "\n",
    "# convert arrays into dataframe\n",
    "\n",
    "for array in proto_cluster_assignments:\n",
    "    cluster_df = cluster_df.append({'protocol':array[0][0],'ipv4_src_addr':array[0][1], 'l4_src_port':array[0][2],\n",
    "                                    'ipv4_dst_addr':array[0][3],'l4_dst_port':array[0][4],'in_pkts':array[0][5],\n",
    "                                    'in_bytes':array[0][6],'cluster_id':array[1]}, ignore_index=True)"
   ]
  },
  {
   "cell_type": "code",
   "execution_count": null,
   "metadata": {
    "collapsed": false
   },
   "outputs": [],
   "source": [
    "cluster_df.to_csv(\"kproto_160_centroid_cao.csv\",sep=',')"
   ]
  },
  {
   "cell_type": "code",
   "execution_count": null,
   "metadata": {
    "collapsed": false
   },
   "outputs": [],
   "source": [
    "cluster_df['cluster_id'] = cluster_df['cluster_id'].astype('str')"
   ]
  },
  {
   "cell_type": "code",
   "execution_count": null,
   "metadata": {
    "collapsed": false
   },
   "outputs": [],
   "source": [
    "# Create unique dataframe for each cluster created\n",
    "# by the kprototypes algorithm run above\n",
    "\n",
    "cluster_dfs = []\n",
    "\n",
    "for i in np.unique(cluster_df['cluster_id']):\n",
    "    cluster_dfs.append(cluster_df[cluster_df['cluster_id'].str.contains(('^%s' %i), na=False)])"
   ]
  },
  {
   "cell_type": "code",
   "execution_count": null,
   "metadata": {
    "collapsed": false
   },
   "outputs": [],
   "source": [
    "# Subset single cluster, will ultimately make\n",
    "# function that runs this entire process over\n",
    "# all cluster_dfs\n",
    "\n",
    "cluster_n = cluster_dfs[100]\n",
    "cluster_n_src_ip = cluster_n['ipv4_src_addr'].unique()\n",
    "\n",
    "cluster_n_df = cluster_n.loc[:,['protocol','ipv4_src_addr','l4_src_port',\n",
    "                                'ipv4_dst_addr','l4_dst_port','in_pkts',\n",
    "                                'in_bytes']]\n",
    "\n",
    "cluster_n_df_mat = cluster_n_df.as_matrix()"
   ]
  },
  {
   "cell_type": "code",
   "execution_count": null,
   "metadata": {
    "collapsed": false
   },
   "outputs": [],
   "source": [
    "print(len(cluster_n_src_ip))\n",
    "print(len(cluster_n_df_mat))"
   ]
  },
  {
   "cell_type": "code",
   "execution_count": null,
   "metadata": {
    "collapsed": false
   },
   "outputs": [],
   "source": [
    "#cluster2 kprototypes test\n",
    "\n",
    "n_clusters = len(cluster_2_src_ip)\n",
    "\n",
    "cluster_2_km = kprototypes.KPrototypes(n_clusters, init='Cao', max_iter=100)\n",
    "cluster_2_proto_clusters = km.fit_predict(cluster_n_df_mat, categorical=[0,1,2,3,4])"
   ]
  },
  {
   "cell_type": "code",
   "execution_count": null,
   "metadata": {
    "collapsed": true
   },
   "outputs": [],
   "source": [
    "cluster_2_proto_cluster_assignments = zip(cluster_2_df_mat, cluster_2_proto_clusters)"
   ]
  },
  {
   "cell_type": "code",
   "execution_count": null,
   "metadata": {
    "collapsed": false
   },
   "outputs": [],
   "source": [
    "# instantiate dataframe to house new cluster data\n",
    "\n",
    "clust_2_subcluster_df = pd.DataFrame(columns=('protocol','ipv4_src_addr', 'l4_src_port',\n",
    "                                   'ipv4_dst_addr','l4_dst_port','in_pkts',\n",
    "                                   'in_bytes','cluster_id'))\n",
    "\n",
    "# convert arrays into dataframe\n",
    "\n",
    "for array in cluster_2_proto_cluster_assignments:\n",
    "    clust_2_subcluster_df = clust_2_subcluster_df.append({'protocol':array[0][0],'ipv4_src_addr':array[0][1], 'l4_src_port':array[0][2],\n",
    "                                                          'ipv4_dst_addr':array[0][3],'l4_dst_port':array[0][4],'in_pkts':array[0][5],\n",
    "                                                          'in_bytes':array[0][6],'cluster_id':array[1]}, ignore_index=True)"
   ]
  },
  {
   "cell_type": "code",
   "execution_count": null,
   "metadata": {
    "collapsed": true
   },
   "outputs": [],
   "source": [
    "clust_2_subcluster_df.to_csv(\"subclust_kprototypes.csv\",sep=',')"
   ]
  },
  {
   "cell_type": "code",
   "execution_count": null,
   "metadata": {
    "collapsed": false
   },
   "outputs": [],
   "source": [
    "cluster_list = cluster_df.values.tolist()\n",
    "\n",
    "plot_x = []\n",
    "plot_y = []\n",
    "\n",
    "for flow in cluster_list:\n",
    "    plot_x.append(flow[4])\n",
    "    plot_y.append(flow[8])"
   ]
  },
  {
   "cell_type": "code",
   "execution_count": null,
   "metadata": {
    "collapsed": false
   },
   "outputs": [],
   "source": [
    "fig, ax = plt.subplots(subplot_kw=dict(axisbg='#EEEEEE'), figsize=(10, 10))\n",
    "\n",
    "\n",
    "colors = [v[7] for k,v in enumerate(cluster_list)]\n",
    "mpld3_scatter = ax.scatter(plot_x, plot_y, c = colors)\n",
    "ax.grid(color='white', linestyle='solid')\n",
    "\n",
    "labels = [v[1:5] for k,v in enumerate(cluster_list)]\n",
    "tooltip = mpld3.plugins.PointLabelTooltip(mpld3_scatter, labels=labels)\n",
    "mpld3.plugins.connect(fig, tooltip)"
   ]
  },
  {
   "cell_type": "code",
   "execution_count": null,
   "metadata": {
    "collapsed": false
   },
   "outputs": [],
   "source": [
    "for itemset in find_frequent_itemsets(cluster_list[0:100], 10, include_support=True):\n",
    "    print itemset"
   ]
  }
 ],
 "metadata": {
  "kernelspec": {
   "display_name": "Python 2",
   "language": "python",
   "name": "python2"
  },
  "language_info": {
   "codemirror_mode": {
    "name": "ipython",
    "version": 2
   },
   "file_extension": ".py",
   "mimetype": "text/x-python",
   "name": "python",
   "nbconvert_exporter": "python",
   "pygments_lexer": "ipython2",
   "version": "2.7.6"
  }
 },
 "nbformat": 4,
 "nbformat_minor": 0
}
