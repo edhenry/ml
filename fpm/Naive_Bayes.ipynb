{
 "cells": [
  {
   "cell_type": "code",
   "execution_count": null,
   "metadata": {
    "collapsed": true
   },
   "outputs": [],
   "source": [
    "# Import libraries\n",
    "library(caret)\n",
    "library(pander)\n",
    "library(doMC)\n",
    "library(plyr)\n",
    "library(dplyr)\n",
    "library(Matrix)\n",
    "library(data.table)\n",
    "library(stringr)"
   ]
  },
  {
   "cell_type": "code",
   "execution_count": null,
   "metadata": {
    "collapsed": true
   },
   "outputs": [],
   "source": [
    "# Read .binetflow file into dataframe\n",
    "\n",
    "#flowdata_csv <- read.csv(\"capture20110810.binetflow\", colClasses = c(\"myPosixCt\", \"numeric\", \"character\", \n",
    "                                                                    #\"character\",\"character\",\"character\",\n",
    "                                                                    #\"character\",\"character\",\"character\",\n",
    "                                                                    #\"character\",\"character\",\"numeric\", \n",
    "                                                                    #\"numeric\", \"numeric\", \"character\"), \n",
    "                                                                    #strip.white = TRUE, sep = ',')\n",
    "\n",
    "flowdata_csv <- fread(\"capture20110810.binetflow\", colClasses = c(\"myPosixCt\", \"numeric\", \"character\", \n",
    "                                                                  \"character\",\"character\",\"character\",\n",
    "                                                                  \"character\",\"character\",\"character\",\n",
    "                                                                  \"character\",\"character\",\"numeric\", \n",
    "                                                                  \"numeric\",\"numeric\", \"character\"), \n",
    "                                                                  sep = 'auto')\n",
    "\n",
    "# Set POSIX formatting for StartTime\n",
    "\n",
    "options(set.seconds=\"6\")\n",
    "flowdata_csv$StartTime <- as.POSIXct(flowdata_csv$StartTime, format = \"%Y/%m/%d %H:%M:%OS\")\n",
    "    \n",
    "# Trim leading and trailing whitespace\n",
    "\n",
    "str(flowdata_csv)"
   ]
  },
  {
   "cell_type": "code",
   "execution_count": null,
   "metadata": {
    "collapsed": true
   },
   "outputs": [],
   "source": [
    "# Register CPU core count\n",
    "registerDoMC(cores=23)\n",
    "\n",
    "# Utility function for use with % frequency tables\n",
    "frqtab <- function(x, caption) {\n",
    "    round(100*prop.table(table(x)), 3)\n",
    "}\n",
    "\n",
    "# Utility function to round values in a list\n",
    "# but only if they are numeric\n",
    "\n",
    "round_numeric <- function(lst, decimals=2) {\n",
    "    lappy(lst, function(x){\n",
    "        if (is.numeric(x)) {\n",
    "            x <- round(x, decimals)\n",
    "        }\n",
    "        return(x)\n",
    "    })\n",
    "}\n",
    "\n",
    "# Utility function for model comparison\n",
    "\n",
    "summod <- function(cm, fit) {\n",
    "    summ <- list(k = fit$finalModel$k,\n",
    "                metric = fit$metric,\n",
    "                value = fit$results[fit$resultes$k == fit$finalModel$k, fit$metric],\n",
    "                TN = cm$table[1,1], # True negatives\n",
    "                TP = cm$table[2,2], # True positives\n",
    "                FN = cm$table[1,2], # False negatives\n",
    "                FP = cm$table[2,1], # False positives\n",
    "                acc = cm$overall[\"Accuracy\"], \n",
    "                sens = cm$byClass[\"Sensitivity\"],\n",
    "                spec = cm$byClass[\"Specificity\"],\n",
    "                PPV = cm$byClass[\"Positive Predicted Value\"],\n",
    "                NPV = cm$byClass[\"Negative Prediced Value\"])\n",
    "    round_numeric(summ)\n",
    "}\n",
    "\n",
    "# Utility function to normalize the data\n",
    "\n",
    "normalize <- function(x){\n",
    "    num <- x - min(x)\n",
    "    denom <- max(x) - min(x)\n",
    "    return (num/denom)\n",
    "}\n",
    "\n",
    "#Function to timeslice the data however user would like\n",
    "\n",
    "timeslice <- function(df, slice, interval) {\n",
    "    if (slice == 'secs'){\n",
    "        df <- subset(df, df$StartTime <= df$StartTime[1] + (interval))\n",
    "        return(df)\n",
    "    }\n",
    "    else if (slice == 'mins'){\n",
    "        df <- subset(df, df$StartTime <= df$StartTime[1] + (interval * 60))\n",
    "        return(df)\n",
    "    }\n",
    "    else if (slice == 'hours') {\n",
    "        df <- subset(df, df$StartTime <= df$StartTime[1] + (interval * 3600))\n",
    "        return(df)\n",
    "    }\n",
    "    else if (slice == 'days'){\n",
    "        df <- subset(df, df$StartTime <= df$StartTime[1] + (interval * 86400))\n",
    "        return(df)\n",
    "    }\n",
    "    else\n",
    "      error <- print(\"Please enter a valid time interval.\")\n",
    "      return(error)\n",
    "}"
   ]
  },
  {
   "cell_type": "code",
   "execution_count": null,
   "metadata": {
    "collapsed": true
   },
   "outputs": [],
   "source": [
    "# Subset and normalize data\n",
    "\n",
    "#Function to carve up by timeslice / interval\n",
    "\n",
    "flowdata_slice <- timeslice(flowdata_csv, 'mins', 10)\n",
    "\n",
    "str(flowdata_slice)"
   ]
  },
  {
   "cell_type": "code",
   "execution_count": null,
   "metadata": {
    "collapsed": true
   },
   "outputs": [],
   "source": [
    "# Factorize columns in dataframe\n",
    "\n",
    "flowdata_slice$Proto <- as.factor(flowdata_slice$Proto)\n",
    "flowdata_slice$SrcAddr <- as.factor(flowdata_slice$SrcAddr)\n",
    "flowdata_slice$Sport <- as.factor(flowdata_slice$Sport)\n",
    "flowdata_slice$DstAddr <- as.factor(flowdata_slice$DstAddr)\n",
    "flowdata_slice$Dport <- as.factor(flowdata_slice$Dport)\n",
    "\n",
    "str(flowdata_slice)"
   ]
  },
  {
   "cell_type": "code",
   "execution_count": null,
   "metadata": {
    "collapsed": true
   },
   "outputs": [],
   "source": [
    "# Normalize the data\n",
    "\n",
    "cont_vars <- c(\"Dur\", \"TotPkts\", \"TotBytes\", \"SrcBytes\")\n",
    "\n",
    "flowdata_conts <- flowdata_conts %>% mutate_each_(funs(normalize), vars = cont_vars)\n",
    "\n",
    "# Clean flowdata_conts, totally hacky but dataframe transforms are crazy fast and scale well\n",
    "\n",
    "flowdata_conts <- flowdata_conts[!(flowdata_conts$Dur == 0),]\n",
    "flowdata_conts <- flowdata_conts[!(flowdata_conts$TotPkts == 0),]\n",
    "flowdata_conts <- flowdata_conts[!(flowdata_conts$TotBytes == 0),]\n",
    "flowdata_conts <- flowdata_conts[!(flowdata_conts$SrcBytes == 0),]"
   ]
  },
  {
   "cell_type": "code",
   "execution_count": null,
   "metadata": {
    "collapsed": true
   },
   "outputs": [],
   "source": [
    "# Re-factor-fy variable\n",
    "\n",
    "flowdata_conts$Label <- as.factor(flowdata_conts$Label)\n",
    "\n",
    "# Set randomization seed\n",
    "\n",
    "set.seed(1234)\n",
    "\n",
    "# Break dataset into training and test sets\n",
    "## split dataset randomly with a 67/33% distribution\n",
    "\n",
    "ind <- sample(2, nrow(flowdata_conts), replace=TRUE, prob=c(0.67, 0.33))\n",
    "\n",
    "flowdata_training <- flowdata_conts[ind==1,]\n",
    "flowdata_test <- flowdata_conts[ind==2,]\n",
    "\n",
    "#flowdata_training_classes <- flowdata_conts[ind==1,5]\n",
    "#flowdata_test_classes <- flowdata_conts[ind==2,5]"
   ]
  },
  {
   "cell_type": "code",
   "execution_count": null,
   "metadata": {
    "collapsed": true
   },
   "outputs": [],
   "source": [
    "# Display label distribution in datasets\n",
    "\n",
    "ft_orig <- frqtab(flowdata_conts$Label)\n",
    "label_freq <- pander(ft_orig, style=\"rmarkdown\", caption=\"Original Label Frequency (%)\")\n",
    "\n",
    "ft_train <- frqtab(flowdata_training$Label)\n",
    "ft_test <- frqtab(flowdata_test$Label)\n",
    "ftcmp_df <- as.data.frame(cbind(ft_orig, ft_train, ft_test))\n",
    "colnames(ftcmp_df) <- c(\"Original\", \"Training Set\", \"Test Set\")\n",
    "pander(ftcmp_df, style=\"rmarkdown\",\n",
    "              caption=\"Comparison of Label frequencies ( in %)\")"
   ]
  },
  {
   "cell_type": "code",
   "execution_count": null,
   "metadata": {
    "collapsed": true
   },
   "outputs": [],
   "source": [
    "# NA omit after cleaning\n",
    "\n",
    "flowdata_test <- na.omit(flowdata_test)\n",
    "flowdata_training <- na.omit(flowdata_training)"
   ]
  },
  {
   "cell_type": "code",
   "execution_count": null,
   "metadata": {
    "collapsed": true
   },
   "outputs": [],
   "source": [
    "# Train on the dataset\n",
    "ctrl <- trainControl(method=\"cv\", 10)\n",
    "set.seed(12345)\n",
    "\n",
    "flow_model_1 <- train(flowdata_training, flowdata_)"
   ]
  }
 ],
 "metadata": {
  "kernelspec": {
   "display_name": "R",
   "language": "R",
   "name": "ir"
  },
  "language_info": {
   "codemirror_mode": "r",
   "file_extension": ".r",
   "mimetype": "text/x-r-source",
   "name": "R",
   "pygments_lexer": "r",
   "version": "3.2.2"
  }
 },
 "nbformat": 4,
 "nbformat_minor": 0
}
