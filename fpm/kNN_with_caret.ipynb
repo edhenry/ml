{
 "cells": [
  {
   "cell_type": "markdown",
   "metadata": {},
   "source": [
    "# Traffic Classification using k Nearest Neighbor\n",
    "\n",
    "# Background\n",
    "\n",
    "## Motivation\n",
    "\n",
    "I am currently working on feature extraction and identification using simple k nearest neighbor clustering algorithms over a data set."
   ]
  },
  {
   "cell_type": "markdown",
   "metadata": {},
   "source": [
    "### Preliminary Information\n",
    "\n",
    "We're using a dataset that has been pre-captured, cleaned and labeled by an ongoing effort found here : https://stratosphereips.org/category/dataset.html\n",
    "\n",
    "They're currently working to on a machine learning effort for Malware classification, much like the example we're showing here.\n",
    "\n",
    "The dataset currently contains typical Netflow capture information, including time stamps, durations of the flows, Src/DstIP's, Src/Dst Port, and other flow related information. The key to the provided dataset was that it is labeled. We can then use these labels to start to train a model to identify and classify unlabeled flows as any of the labels provided in the dataset."
   ]
  },
  {
   "cell_type": "code",
   "execution_count": 1,
   "metadata": {
    "collapsed": false
   },
   "outputs": [
    {
     "name": "stderr",
     "output_type": "stream",
     "text": [
      "Loading required package: lattice\n",
      "Loading required package: ggplot2\n",
      "Loading required package: foreach\n",
      "Loading required package: iterators\n",
      "Loading required package: parallel\n",
      "\n",
      "Attaching package: ‘dplyr’\n",
      "\n",
      "The following objects are masked from ‘package:plyr’:\n",
      "\n",
      "    arrange, count, desc, failwith, id, mutate, rename, summarise,\n",
      "    summarize\n",
      "\n",
      "The following objects are masked from ‘package:stats’:\n",
      "\n",
      "    filter, lag\n",
      "\n",
      "The following objects are masked from ‘package:base’:\n",
      "\n",
      "    intersect, setdiff, setequal, union\n",
      "\n",
      "\n",
      "Attaching package: ‘data.table’\n",
      "\n",
      "The following objects are masked from ‘package:dplyr’:\n",
      "\n",
      "    between, last\n",
      "\n"
     ]
    }
   ],
   "source": [
    "# Import libraries\n",
    "library(caret)\n",
    "library(pander)\n",
    "library(doMC)\n",
    "library(plyr)\n",
    "library(dplyr)\n",
    "library(Matrix)\n",
    "library(data.table)\n",
    "library(stringr)"
   ]
  },
  {
   "cell_type": "code",
   "execution_count": 2,
   "metadata": {
    "collapsed": false
   },
   "outputs": [
    {
     "name": "stdout",
     "output_type": "stream",
     "text": [
      "Read 2824636 rows and 15 (of 15) columns from 0.360 GB file in 00:00:13\n",
      "Classes ‘data.table’ and 'data.frame':\t2824636 obs. of  15 variables:\n",
      " $ StartTime: POSIXct, format: \"2011-08-10 09:46:59\" \"2011-08-10 09:47:00\" ...\n",
      " $ Dur      : num  1.03 1.01 3.06 3.11 3.08 ...\n",
      " $ Proto    : chr  \"tcp\" \"tcp\" \"tcp\" \"tcp\" ...\n",
      " $ SrcAddr  : chr  \"94.44.127.113\" \"94.44.127.113\" \"147.32.86.89\" \"147.32.86.89\" ...\n",
      " $ Sport    : chr  \"1577\" \"1577\" \"4768\" \"4788\" ...\n",
      " $ Dir      : chr  \"   ->\" \"   ->\" \"   ->\" \"   ->\" ...\n",
      " $ DstAddr  : chr  \"147.32.84.59\" \"147.32.84.59\" \"77.75.73.33\" \"77.75.73.33\" ...\n",
      " $ Dport    : chr  \"6881\" \"6881\" \"80\" \"80\" ...\n",
      " $ State    : chr  \"S_RA\" \"S_RA\" \"SR_A\" \"SR_A\" ...\n",
      " $ sTos     : chr  \"0\" \"0\" \"0\" \"0\" ...\n",
      " $ dTos     : chr  \"0\" \"0\" \"0\" \"0\" ...\n",
      " $ TotPkts  : num  4 4 3 3 3 3 4 4 4 5 ...\n",
      " $ TotBytes : num  276 276 182 182 182 182 244 252 252 352 ...\n",
      " $ SrcBytes : num  156 156 122 122 122 122 124 132 132 208 ...\n",
      " $ Label    : chr  \"flow=Background-Established-cmpgw-CVUT\" \"flow=Background-Established-cmpgw-CVUT\" \"flow=Background-TCP-Attempt\" \"flow=Background-TCP-Attempt\" ...\n",
      " - attr(*, \".internal.selfref\")=<externalptr> \n"
     ]
    }
   ],
   "source": [
    "# Read .binetflow file into dataframe\n",
    "\n",
    "#flowdata_csv <- read.csv(\"capture20110810.binetflow\", colClasses = c(\"myPosixCt\", \"numeric\", \"character\", \n",
    "                                                                    #\"character\",\"character\",\"character\",\n",
    "                                                                    #\"character\",\"character\",\"character\",\n",
    "                                                                    #\"character\",\"character\",\"numeric\", \n",
    "                                                                    #\"numeric\", \"numeric\", \"character\"), \n",
    "                                                                    #strip.white = TRUE, sep = ',')\n",
    "\n",
    "flowdata_csv <- fread(\"capture20110810.binetflow\", colClasses = c(\"myPosixCt\", \"numeric\", \"character\", \n",
    "                                                                  \"character\",\"character\",\"character\",\n",
    "                                                                  \"character\",\"character\",\"character\",\n",
    "                                                                  \"character\",\"character\",\"numeric\", \n",
    "                                                                  \"numeric\",\"numeric\", \"character\"), \n",
    "                                                                  sep = 'auto')\n",
    "\n",
    "# Set POSIX formatting for StartTime\n",
    "\n",
    "options(set.seconds=\"6\")\n",
    "flowdata_csv$StartTime <- as.POSIXct(flowdata_csv$StartTime, format = \"%Y/%m/%d %H:%M:%OS\")\n",
    "    \n",
    "# Trim leading and trailing whitespace\n",
    "\n",
    "str(flowdata_csv)\n"
   ]
  },
  {
   "cell_type": "code",
   "execution_count": null,
   "metadata": {
    "collapsed": false
   },
   "outputs": [],
   "source": [
    "# Register CPU core count\n",
    "registerDoMC(cores=23)\n",
    "\n",
    "# Utility function for use with % frequency tables\n",
    "frqtab <- function(x, caption) {\n",
    "    round(100*prop.table(table(x)), 3)\n",
    "}\n",
    "\n",
    "# Utility function to round values in a list\n",
    "# but only if they are numeric\n",
    "\n",
    "round_numeric <- function(lst, decimals=2) {\n",
    "    lappy(lst, function(x){\n",
    "        if (is.numeric(x)) {\n",
    "            x <- round(x, decimals)\n",
    "        }\n",
    "        return(x)\n",
    "    })\n",
    "}\n",
    "\n",
    "# Utility function for model comparison\n",
    "\n",
    "summod <- function(cm, fit) {\n",
    "    summ <- list(k = fit$finalModel$k,\n",
    "                metric = fit$metric,\n",
    "                value = fit$results[fit$resultes$k == fit$finalModel$k, fit$metric],\n",
    "                TN = cm$table[1,1], # True negatives\n",
    "                TP = cm$table[2,2], # True positives\n",
    "                FN = cm$table[1,2], # False negatives\n",
    "                FP = cm$table[2,1], # False positives\n",
    "                acc = cm$overall[\"Accuracy\"], \n",
    "                sens = cm$byClass[\"Sensitivity\"],\n",
    "                spec = cm$byClass[\"Specificity\"],\n",
    "                PPV = cm$byClass[\"Positive Predicted Value\"],\n",
    "                NPV = cm$byClass[\"Negative Prediced Value\"])\n",
    "    round_numeric(summ)\n",
    "}\n",
    "\n",
    "# Utility function to normalize the data\n",
    "\n",
    "normalize <- function(x){\n",
    "    num <- x - min(x)\n",
    "    denom <- max(x) - min(x)\n",
    "    return (num/denom)\n",
    "}\n",
    "\n",
    "#Function to timeslice the data however user would like\n",
    "\n",
    "timeslice <- function(df, slice, interval) {\n",
    "    if (slice == 'secs'){\n",
    "        df <- subset(df, df$StartTime <= df$StartTime[1] + (interval))\n",
    "        return(df)\n",
    "    }\n",
    "    else if (slice == 'mins'){\n",
    "        df <- subset(df, df$StartTime <= df$StartTime[1] + (interval * 60))\n",
    "        return(df)\n",
    "    }\n",
    "    else if (slice == 'hours') {\n",
    "        df <- subset(df, df$StartTime <= df$StartTime[1] + (interval * 3600))\n",
    "        return(df)\n",
    "    }\n",
    "    else if (slice == 'days'){\n",
    "        df <- subset(df, df$StartTime <= df$StartTime[1] + (interval * 86400))\n",
    "        return(df)\n",
    "    }\n",
    "    else\n",
    "      error <- print(\"Please enter a valid time interval.\")\n",
    "      return(error)\n",
    "}\n"
   ]
  },
  {
   "cell_type": "code",
   "execution_count": null,
   "metadata": {
    "collapsed": false
   },
   "outputs": [],
   "source": [
    "# Subset and normalize data\n",
    "\n",
    "#Function to carve up by timeslice / interval\n",
    "\n",
    "flowdata_slice <- timeslice(flowdata_csv, 'mins', 10)\n",
    "\n",
    "str(flowdata_slice)\n"
   ]
  },
  {
   "cell_type": "code",
   "execution_count": null,
   "metadata": {
    "collapsed": false
   },
   "outputs": [],
   "source": [
    "# Factorize columns in dataframe\n",
    "\n",
    "flowdata_slice$Proto <- as.factor(flowdata_slice$Proto)\n",
    "flowdata_slice$SrcAddr <- as.factor(flowdata_slice$SrcAddr)\n",
    "flowdata_slice$Sport <- as.factor(flowdata_slice$Sport)\n",
    "flowdata_slice$DstAddr <- as.factor(flowdata_slice$DstAddr)\n",
    "flowdata_slice$Dport <- as.factor(flowdata_slice$Dport)\n",
    "\n",
    "str(flowdata_slice)"
   ]
  },
  {
   "cell_type": "code",
   "execution_count": null,
   "metadata": {
    "collapsed": false,
    "scrolled": true
   },
   "outputs": [],
   "source": [
    "# One hot encode categorical vars\n",
    "#one_hot_proto <- model.matrix(~flowdata_slice$Proto)\n",
    "#one_hot_src_addr <- model.matrix(~flowdata_slice$SrcAddr)\n",
    "#one_hot_dst_addr <- model.matrix(~flowdata_slice$DstAddr)\n",
    "#one_hot_d_port <- model.matrix(~flowdata_slice$Dport)\n",
    "#one_hot_s_port <- model.matrix(~flowdata_slice$Sport)\n",
    "\n",
    "#write.csv(model.matrix(~flowdata_slice$Proto), file=\"one_hot_proto.csv\")\n",
    "#write.csv(model.matrix(~flowdata_slice$SrcAddr), file=\"one_hot_src_addr.csv\")\n",
    "#write.csv(model.matrix(~flowdata_slice$Sport), file=\"one_hot_s_port.csv\")\n",
    "#write.csv(model.matrix(~flowdata_slice$DstAddr), file=\"one_hot_dst_addr.csv\")\n",
    "write.csv(model.matrix(~flowdata_slice$Dport), file=\"one_hot_d_port.csv\")\n",
    "\n",
    "#flowdata_one_hot <- cbind(flowdata_slice$Dur, one_hot_proto, one_hot_src_addr, one_hot_s_port, one_hot_dst_addr,\n",
    "                          #one_hot_dst_port, flowdata_slice$TotPkts, flowdata_slice$TotBytes, flowdata_slice$SrcBytes,\n",
    "                         #flowdata_slice$Label)\n",
    "\n",
    "#str(flowdata_one_hot)\n",
    "dim(flowdata_slice)\n",
    "dim(flowdata_slice$SrcAddr)\n",
    "            "
   ]
  },
  {
   "cell_type": "code",
   "execution_count": null,
   "metadata": {
    "collapsed": false
   },
   "outputs": [],
   "source": [
    "one_hot_dst_addr <- fread(\"one_hot_dst_addr.csv\", sep=\"auto\")\n",
    "\n",
    "str(one_hot_dst_addr)"
   ]
  },
  {
   "cell_type": "code",
   "execution_count": null,
   "metadata": {
    "collapsed": false
   },
   "outputs": [],
   "source": [
    "flowdata_one_hot <- cbind(flowdata_slice$Dur, one_hot_proto, one_hot_src_addr, one_hot_s_port, one_hot_dst_addr,\n",
    "                          one_hot_d_port, flowdata_slice$TotPkts, flowdata_slice$TotBytes, flowdata_slice$SrcBytes,\n",
    "                         flowdata_slice$Label)\n",
    "\n",
    "str(flowdata_one_hot)"
   ]
  },
  {
   "cell_type": "code",
   "execution_count": null,
   "metadata": {
    "collapsed": false
   },
   "outputs": [],
   "source": [
    "#Define continuous vars, subset flowdata and save as CSV\n",
    "\n",
    "contvars <- names(flowdata_csv) %in% c(\"StartTime\", \"Proto\", \"SrcAddr\", \"Sport\", \"Dir\", \"DstAddr\", \"Dport\", \"State\", \"sTos\", \"dTos\")\n",
    "flowdata_conts <- flowdata_csv[!contvars]\n",
    "\n",
    "str(flowdata_conts)\n",
    "\n",
    "# Write out to csv file for persistence\n",
    "\n",
    "write.csv(flowdata_conts, file='flowdata_conts.csv')"
   ]
  },
  {
   "cell_type": "code",
   "execution_count": null,
   "metadata": {
    "collapsed": false
   },
   "outputs": [],
   "source": [
    "# Normalize the data\n",
    "\n",
    "cont_vars <- c(\"Dur\", \"TotPkts\", \"TotBytes\", \"SrcBytes\")\n",
    "\n",
    "flowdata_conts <- flowdata_conts %>% mutate_each_(funs(normalize), vars = cont_vars)\n",
    "\n",
    "# Clean flowdata_conts, totally hacky but dataframe transforms are crazy fast and scale well\n",
    "\n",
    "flowdata_conts <- flowdata_conts[!(flowdata_conts$Dur == 0),]\n",
    "flowdata_conts <- flowdata_conts[!(flowdata_conts$TotPkts == 0),]\n",
    "flowdata_conts <- flowdata_conts[!(flowdata_conts$TotBytes == 0),]\n",
    "flowdata_conts <- flowdata_conts[!(flowdata_conts$SrcBytes == 0),]"
   ]
  },
  {
   "cell_type": "code",
   "execution_count": null,
   "metadata": {
    "collapsed": false
   },
   "outputs": [],
   "source": [
    "# Re-factor-fy variable\n",
    "\n",
    "flowdata_conts$Label <- as.factor(flowdata_conts$Label)\n",
    "\n",
    "# Set randomization seed\n",
    "\n",
    "set.seed(1234)\n",
    "\n",
    "# Break dataset into training and test sets\n",
    "## split dataset randomly with a 67/33% distribution\n",
    "\n",
    "ind <- sample(2, nrow(flowdata_conts), replace=TRUE, prob=c(0.67, 0.33))\n",
    "\n",
    "flowdata_training <- flowdata_conts[ind==1,]\n",
    "flowdata_test <- flowdata_conts[ind==2,]\n",
    "\n",
    "#flowdata_training_classes <- flowdata_conts[ind==1,5]\n",
    "#flowdata_test_classes <- flowdata_conts[ind==2,5]"
   ]
  },
  {
   "cell_type": "code",
   "execution_count": null,
   "metadata": {
    "collapsed": false
   },
   "outputs": [],
   "source": [
    "# Display label distribution in datasets\n",
    "\n",
    "ft_orig <- frqtab(flowdata_conts$Label)\n",
    "label_freq <- pander(ft_orig, style=\"rmarkdown\", caption=\"Original Label Frequency (%)\")\n",
    "\n",
    "ft_train <- frqtab(flowdata_training$Label)\n",
    "ft_test <- frqtab(flowdata_test$Label)\n",
    "ftcmp_df <- as.data.frame(cbind(ft_orig, ft_train, ft_test))\n",
    "colnames(ftcmp_df) <- c(\"Original\", \"Training Set\", \"Test Set\")\n",
    "pander(ftcmp_df, style=\"rmarkdown\",\n",
    "              caption=\"Comparison of Label frequencies ( in %)\")"
   ]
  },
  {
   "cell_type": "code",
   "execution_count": null,
   "metadata": {
    "collapsed": false
   },
   "outputs": [],
   "source": [
    "# NA omit after cleaning\n",
    "flowdata_test <- na.omit(flowdata_test)\n",
    "flowdata_training <- na.omit(flowdata_training)\n",
    "\n",
    "set.seed(123)\n",
    "\n",
    "# Create list for seed used with parallelization\n",
    "\n",
    "seeds <- vector(mode = \"list\", length = 51)\n",
    "for (i in 1:50) seeds[[i]] <- sample.int(1000, 22)\n",
    "\n",
    "# Used for last model\n",
    "    \n",
    "seeds[[51]] <- sample.int(1000, 1)\n",
    "\n",
    "# Define training parameters\n",
    "    \n",
    "ctrl <- trainControl(method=\"repeatedcv\", repeats=3, seeds = seeds)\n",
    "\n",
    "# Run training! LET THE COMPUTER OVERLORD LEARN\n",
    "    \n",
    "system.time(\n",
    "knnFit1 <- train(Label ~., flowdata_training, method=\"knn\",\n",
    "                trControl = ctrl, tuneLength = 10, preProcess = c(\"scale\", \"center\", \"pca\"))\n",
    ")\n",
    "\n",
    "# Output stats TODO : convert to markdown for web / slide view\n",
    "\n",
    "knnFit1"
   ]
  },
  {
   "cell_type": "code",
   "execution_count": null,
   "metadata": {
    "collapsed": false
   },
   "outputs": [],
   "source": [
    "plot(knnFit1)"
   ]
  },
  {
   "cell_type": "code",
   "execution_count": null,
   "metadata": {
    "collapsed": false
   },
   "outputs": [],
   "source": [
    "# Run prediction over test dataset\n",
    "system.time(\n",
    "knnPredict1 <- predict(knnFit1, newdata = flowdata_test)\n",
    ")"
   ]
  },
  {
   "cell_type": "code",
   "execution_count": null,
   "metadata": {
    "collapsed": false
   },
   "outputs": [],
   "source": [
    "plot(knnPredict1)"
   ]
  },
  {
   "cell_type": "code",
   "execution_count": null,
   "metadata": {
    "collapsed": false
   },
   "outputs": [],
   "source": [
    "# Calculate confusion matric for prediction accuracy\n",
    "cmat1 <- confusionMatrix(knnPredict1, flowdata_test$Label)"
   ]
  },
  {
   "cell_type": "code",
   "execution_count": null,
   "metadata": {
    "collapsed": false
   },
   "outputs": [],
   "source": [
    "cmat1"
   ]
  },
  {
   "cell_type": "code",
   "execution_count": null,
   "metadata": {
    "collapsed": false
   },
   "outputs": [],
   "source": [
    "# render plot\n",
    "# we use three different layers\n",
    "# first we draw tiles and fill color based on percentage of test cases\n",
    "tile <- ggplot() +\n",
    "geom_tile(aes(x=Actual, y=Predicted,fill=Percent),data=cmat1, color=\"black\",size=0.1) +\n",
    "labs(x=\"Actual\",y=\"Predicted\")\n",
    "tile = tile + \n",
    "geom_text(aes(x=Actual,y=Predicted, label=sprintf(\"%.1f\", Percent)),data=cmat1, size=3, colour=\"black\") +\n",
    "scale_fill_gradient(low=\"grey\",high=\"red\")\n",
    " \n",
    "# lastly we draw diagonal tiles. We use alpha = 0 so as not to hide previous layers but use size=0.3 to highlight border\n",
    "tile = tile + \n",
    "geom_tile(aes(x=Actual,y=Predicted),data=subset(cmat1, as.character(Actual)==as.character(Predicted)), color=\"black\",size=0.3, fill=\"black\", alpha=0) \n",
    " \n",
    "#render\n",
    "tile"
   ]
  },
  {
   "cell_type": "code",
   "execution_count": null,
   "metadata": {
    "collapsed": true
   },
   "outputs": [],
   "source": []
  }
 ],
 "metadata": {
  "kernelspec": {
   "display_name": "R",
   "language": "R",
   "name": "ir"
  },
  "language_info": {
   "codemirror_mode": "r",
   "file_extension": ".r",
   "mimetype": "text/x-r-source",
   "name": "R",
   "pygments_lexer": "r",
   "version": "3.2.2"
  }
 },
 "nbformat": 4,
 "nbformat_minor": 0
}
