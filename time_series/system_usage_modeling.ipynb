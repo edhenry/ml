{
 "cells": [
  {
   "cell_type": "markdown",
   "metadata": {},
   "source": [
    "# System Resource Regression\n",
    "\n",
    "This notebook will be used to model different aspects of the resources on a given host. We will start with simple linear regression models to try and understand what system resource usage would look like at time t+1.\n",
    "\n",
    "We will be utilizing InfluxDB to store host data collected from a given environment along with scikit-learn to try and model different resources of the node.\n",
    "\n",
    "We will be collecting many different pieces of telemetry from the hosts, including CPU usage, per code, NIC usage per core, queue lengths per NIC, etc. This will be further documented below.\n",
    "\n",
    "For modeling this system we will start with what is available within Genralized Linear Models ([GLMs](http://scikit-learn.org/stable/modules/linear_model.html)) in scikit-learn. This will allow us to discovery which models are better at capturing the variance of the data that is being collected from a given system, in this case our hosts."
   ]
  },
  {
   "cell_type": "code",
   "execution_count": 1,
   "metadata": {
    "collapsed": true
   },
   "outputs": [],
   "source": [
    "import pandas as pd\n",
    "import sklearn\n",
    "\n",
    "from influxdb import resultset\n",
    "from influxdb import DataFrameClient\n",
    "\n",
    "\n",
    "def main():\n",
    "    \"\"\"\n",
    "\n",
    "    :return:\n",
    "    \"\"\"\n",
    "\n",
    "\n",
    "def get_data(client: DataFrameClient) -> resultset.ResultSet:\n",
    "    \"\"\"\n",
    "    Collect series of data from InfluxDB\n",
    "\n",
    "    :return: InfluxDB resultset\n",
    "\n",
    "    \"\"\"\n",
    "\n",
    "\n",
    "def connect_influx(host: str, port: str, db_name: str, username: str, password: str) -> DataFrameClient:\n",
    "    \"\"\"\n",
    "    Connect to InfluxDB instance\n",
    "\n",
    "    :return: DataFrameClient object\n",
    "    \"\"\"\n",
    "    client = DataFrameClient(host=host, port=port, database=db_name,\n",
    "                             username=username, password=password)\n",
    "\n",
    "    return client\n"
   ]
  },
  {
   "cell_type": "code",
   "execution_count": null,
   "metadata": {
    "collapsed": true
   },
   "outputs": [],
   "source": []
  }
 ],
 "metadata": {
  "kernelspec": {
   "display_name": "Python 3",
   "language": "python",
   "name": "python3"
  },
  "language_info": {
   "codemirror_mode": {
    "name": "ipython",
    "version": 3
   },
   "file_extension": ".py",
   "mimetype": "text/x-python",
   "name": "python",
   "nbconvert_exporter": "python",
   "pygments_lexer": "ipython3",
   "version": "3.5.2"
  }
 },
 "nbformat": 4,
 "nbformat_minor": 2
}
